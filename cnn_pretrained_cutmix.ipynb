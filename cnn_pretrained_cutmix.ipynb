{
 "cells": [
  {
   "cell_type": "code",
   "execution_count": 1,
   "metadata": {},
   "outputs": [],
   "source": [
    "import torch\n",
    "import torch.nn as nn\n",
    "import torchvision\n",
    "from torchvision import transforms\n",
    "from torch.utils.data import DataLoader\n",
    "from torchvision.transforms import v2\n",
    "from train import train_model\n",
    "from torchvision.models import alexnet, AlexNet_Weights"
   ]
  },
  {
   "cell_type": "code",
   "execution_count": 2,
   "metadata": {},
   "outputs": [
    {
     "name": "stdout",
     "output_type": "stream",
     "text": [
      "Files already downloaded and verified\n",
      "Files already downloaded and verified\n"
     ]
    }
   ],
   "source": [
    "mean = (0.5070751592371323, 0.48654887331495095, 0.4409178433670343)\n",
    "std = (0.2673342858792401, 0.2564384629170883, 0.27615047132568404)\n",
    "\n",
    "train_transform = transforms.Compose([\n",
    "        v2.RandomResizedCrop(size=(224, 224), antialias=True),\n",
    "        transforms.RandomHorizontalFlip(),\n",
    "        transforms.RandomRotation(15),\n",
    "        transforms.ToTensor(),\n",
    "        transforms.Normalize(mean, std)\n",
    "])\n",
    "\n",
    "test_transform = transforms.Compose([\n",
    "        v2.RandomResizedCrop(size=(224, 224), antialias=True),\n",
    "        transforms.ToTensor(),\n",
    "        transforms.Normalize(mean, std)\n",
    "])\n",
    "\n",
    "train_data = torchvision.datasets.CIFAR100(\"./data\", train=True, \n",
    "                                     transform=train_transform,download=True)\n",
    "\n",
    "test_data = torchvision.datasets.CIFAR100(\"./data\", train=False, \n",
    "                                     transform=test_transform,download=True)"
   ]
  },
  {
   "cell_type": "code",
   "execution_count": 3,
   "metadata": {},
   "outputs": [],
   "source": [
    "\n",
    "train_dataloader = DataLoader(train_data, batch_size=32, shuffle=True)\n",
    "test_dataloader = DataLoader(test_data, batch_size=32, shuffle=True)"
   ]
  },
  {
   "cell_type": "code",
   "execution_count": 4,
   "metadata": {},
   "outputs": [],
   "source": [
    "device = torch.device('cuda' if torch.cuda.is_available() else 'cpu')\n",
    "\n",
    "epoches = 82\n",
    "lr = 0.001\n",
    "\n",
    "weights = AlexNet_Weights.DEFAULT\n",
    "model = alexnet(weights=weights)\n",
    "# model = alexnet()\n",
    "\n",
    "model.classifier[6] = nn.Linear(model.classifier[6].in_features, 2048)\n",
    "model.classifier.add_module (name='7', module=nn.ReLU(inplace=True))\n",
    "model.classifier.add_module (name='8', module=nn.Linear(2048, 1024))\n",
    "model.classifier.add_module (name='9', module=nn.ReLU(inplace=True))\n",
    "model.classifier.add_module (name='10', module=nn.Linear(1024, 100))\n",
    "model = model.to(device)\n",
    "\n",
    "loss_fun = nn.CrossEntropyLoss()\n",
    "optimizer = torch.optim.SGD(model.parameters(), lr= lr, momentum=0.9)"
   ]
  },
  {
   "cell_type": "code",
   "execution_count": 5,
   "metadata": {},
   "outputs": [
    {
     "data": {
      "text/plain": [
       "67595172"
      ]
     },
     "execution_count": 5,
     "metadata": {},
     "output_type": "execute_result"
    }
   ],
   "source": [
    "sum([p.numel() for p in model.parameters()])"
   ]
  },
  {
   "cell_type": "code",
   "execution_count": 6,
   "metadata": {},
   "outputs": [
    {
     "name": "stderr",
     "output_type": "stream",
     "text": [
      "  0%|          | 0/82 [00:00<?, ?it/s]"
     ]
    },
    {
     "name": "stdout",
     "output_type": "stream",
     "text": [
      "Epoch 1| 82 training complete!\n",
      "------------------------------\n",
      "train loss: 4.197272\n"
     ]
    },
    {
     "name": "stderr",
     "output_type": "stream",
     "text": [
      "  1%|          | 1/82 [01:57<2:38:35, 117.48s/it]"
     ]
    },
    {
     "name": "stdout",
     "output_type": "stream",
     "text": [
      "test loss: 3.297541 acc: 0.224\n",
      "Epoch 2| 82 training complete!\n",
      "------------------------------\n",
      "train loss: 3.778800\n"
     ]
    },
    {
     "name": "stderr",
     "output_type": "stream",
     "text": [
      "  2%|▏         | 2/82 [03:47<2:31:06, 113.33s/it]"
     ]
    },
    {
     "name": "stdout",
     "output_type": "stream",
     "text": [
      "test loss: 2.794983 acc: 0.314\n",
      "Epoch 3| 82 training complete!\n",
      "------------------------------\n",
      "train loss: 3.618888\n"
     ]
    },
    {
     "name": "stderr",
     "output_type": "stream",
     "text": [
      "  4%|▎         | 3/82 [05:44<2:31:08, 114.79s/it]"
     ]
    },
    {
     "name": "stdout",
     "output_type": "stream",
     "text": [
      "test loss: 2.547350 acc: 0.354\n",
      "Epoch 4| 82 training complete!\n",
      "------------------------------\n",
      "train loss: 3.538548\n"
     ]
    },
    {
     "name": "stderr",
     "output_type": "stream",
     "text": [
      "  5%|▍         | 4/82 [07:45<2:32:12, 117.08s/it]"
     ]
    },
    {
     "name": "stdout",
     "output_type": "stream",
     "text": [
      "test loss: 2.419121 acc: 0.387\n",
      "Epoch 5| 82 training complete!\n",
      "------------------------------\n",
      "train loss: 3.468299\n"
     ]
    },
    {
     "name": "stderr",
     "output_type": "stream",
     "text": [
      "  6%|▌         | 5/82 [09:42<2:30:23, 117.18s/it]"
     ]
    },
    {
     "name": "stdout",
     "output_type": "stream",
     "text": [
      "test loss: 2.313121 acc: 0.408\n",
      "Epoch 6| 82 training complete!\n",
      "------------------------------\n",
      "train loss: 3.417031\n"
     ]
    },
    {
     "name": "stderr",
     "output_type": "stream",
     "text": [
      "  7%|▋         | 6/82 [11:40<2:28:42, 117.40s/it]"
     ]
    },
    {
     "name": "stdout",
     "output_type": "stream",
     "text": [
      "test loss: 2.272923 acc: 0.420\n",
      "Epoch 7| 82 training complete!\n",
      "------------------------------\n",
      "train loss: 3.383991\n"
     ]
    },
    {
     "name": "stderr",
     "output_type": "stream",
     "text": [
      "  9%|▊         | 7/82 [13:40<2:27:58, 118.39s/it]"
     ]
    },
    {
     "name": "stdout",
     "output_type": "stream",
     "text": [
      "test loss: 2.164851 acc: 0.444\n",
      "Epoch 8| 82 training complete!\n",
      "------------------------------\n",
      "train loss: 3.358150\n"
     ]
    },
    {
     "name": "stderr",
     "output_type": "stream",
     "text": [
      " 10%|▉         | 8/82 [15:37<2:25:16, 117.80s/it]"
     ]
    },
    {
     "name": "stdout",
     "output_type": "stream",
     "text": [
      "test loss: 2.167331 acc: 0.442\n",
      "Epoch 9| 82 training complete!\n",
      "------------------------------\n",
      "train loss: 3.319783\n"
     ]
    },
    {
     "name": "stderr",
     "output_type": "stream",
     "text": [
      " 11%|█         | 9/82 [17:32<2:22:23, 117.03s/it]"
     ]
    },
    {
     "name": "stdout",
     "output_type": "stream",
     "text": [
      "test loss: 2.127361 acc: 0.452\n",
      "Epoch 10| 82 training complete!\n",
      "------------------------------\n",
      "train loss: 3.284211\n"
     ]
    },
    {
     "name": "stderr",
     "output_type": "stream",
     "text": [
      " 12%|█▏        | 10/82 [19:31<2:21:02, 117.53s/it]"
     ]
    },
    {
     "name": "stdout",
     "output_type": "stream",
     "text": [
      "test loss: 2.154885 acc: 0.442\n",
      "Epoch 11| 82 training complete!\n",
      "------------------------------\n",
      "train loss: 3.275898\n"
     ]
    },
    {
     "name": "stderr",
     "output_type": "stream",
     "text": [
      " 13%|█▎        | 11/82 [21:26<2:18:20, 116.91s/it]"
     ]
    },
    {
     "name": "stdout",
     "output_type": "stream",
     "text": [
      "test loss: 2.064044 acc: 0.465\n",
      "Epoch 12| 82 training complete!\n",
      "------------------------------\n",
      "train loss: 3.256416\n"
     ]
    },
    {
     "name": "stderr",
     "output_type": "stream",
     "text": [
      " 15%|█▍        | 12/82 [23:24<2:16:37, 117.11s/it]"
     ]
    },
    {
     "name": "stdout",
     "output_type": "stream",
     "text": [
      "test loss: 2.058136 acc: 0.469\n",
      "Epoch 13| 82 training complete!\n",
      "------------------------------\n",
      "train loss: 3.237653\n"
     ]
    },
    {
     "name": "stderr",
     "output_type": "stream",
     "text": [
      " 16%|█▌        | 13/82 [25:20<2:14:15, 116.74s/it]"
     ]
    },
    {
     "name": "stdout",
     "output_type": "stream",
     "text": [
      "test loss: 2.016918 acc: 0.483\n",
      "Epoch 14| 82 training complete!\n",
      "------------------------------\n",
      "train loss: 3.207326\n"
     ]
    },
    {
     "name": "stderr",
     "output_type": "stream",
     "text": [
      " 17%|█▋        | 14/82 [27:14<2:11:35, 116.11s/it]"
     ]
    },
    {
     "name": "stdout",
     "output_type": "stream",
     "text": [
      "test loss: 1.986400 acc: 0.485\n",
      "Epoch 15| 82 training complete!\n",
      "------------------------------\n",
      "train loss: 3.203793\n"
     ]
    },
    {
     "name": "stderr",
     "output_type": "stream",
     "text": [
      " 18%|█▊        | 15/82 [29:10<2:09:34, 116.04s/it]"
     ]
    },
    {
     "name": "stdout",
     "output_type": "stream",
     "text": [
      "test loss: 2.011265 acc: 0.479\n",
      "Epoch 16| 82 training complete!\n",
      "------------------------------\n",
      "train loss: 3.177403\n"
     ]
    },
    {
     "name": "stderr",
     "output_type": "stream",
     "text": [
      " 20%|█▉        | 16/82 [31:10<2:08:47, 117.09s/it]"
     ]
    },
    {
     "name": "stdout",
     "output_type": "stream",
     "text": [
      "test loss: 2.011632 acc: 0.482\n",
      "Epoch 17| 82 training complete!\n",
      "------------------------------\n",
      "train loss: 3.163716\n"
     ]
    },
    {
     "name": "stderr",
     "output_type": "stream",
     "text": [
      " 21%|██        | 17/82 [33:07<2:07:02, 117.27s/it]"
     ]
    },
    {
     "name": "stdout",
     "output_type": "stream",
     "text": [
      "test loss: 1.960419 acc: 0.488\n",
      "Epoch 18| 82 training complete!\n",
      "------------------------------\n",
      "train loss: 3.170499\n"
     ]
    },
    {
     "name": "stderr",
     "output_type": "stream",
     "text": [
      " 22%|██▏       | 18/82 [35:04<2:05:01, 117.21s/it]"
     ]
    },
    {
     "name": "stdout",
     "output_type": "stream",
     "text": [
      "test loss: 2.004028 acc: 0.481\n",
      "Epoch 19| 82 training complete!\n",
      "------------------------------\n",
      "train loss: 3.151171\n"
     ]
    },
    {
     "name": "stderr",
     "output_type": "stream",
     "text": [
      " 23%|██▎       | 19/82 [37:00<2:02:26, 116.62s/it]"
     ]
    },
    {
     "name": "stdout",
     "output_type": "stream",
     "text": [
      "test loss: 1.912322 acc: 0.503\n",
      "Epoch 20| 82 training complete!\n",
      "------------------------------\n",
      "train loss: 3.135155\n"
     ]
    },
    {
     "name": "stderr",
     "output_type": "stream",
     "text": [
      " 24%|██▍       | 20/82 [38:54<1:59:48, 115.94s/it]"
     ]
    },
    {
     "name": "stdout",
     "output_type": "stream",
     "text": [
      "test loss: 1.915481 acc: 0.502\n",
      "Epoch 21| 82 training complete!\n",
      "------------------------------\n",
      "train loss: 3.130950\n"
     ]
    },
    {
     "name": "stderr",
     "output_type": "stream",
     "text": [
      " 26%|██▌       | 21/82 [40:49<1:57:37, 115.70s/it]"
     ]
    },
    {
     "name": "stdout",
     "output_type": "stream",
     "text": [
      "test loss: 1.905940 acc: 0.510\n",
      "Epoch 22| 82 training complete!\n",
      "------------------------------\n",
      "train loss: 3.130860\n"
     ]
    },
    {
     "name": "stderr",
     "output_type": "stream",
     "text": [
      " 27%|██▋       | 22/82 [42:47<1:56:20, 116.35s/it]"
     ]
    },
    {
     "name": "stdout",
     "output_type": "stream",
     "text": [
      "test loss: 1.910585 acc: 0.510\n",
      "Epoch 23| 82 training complete!\n",
      "------------------------------\n",
      "train loss: 3.095765\n"
     ]
    },
    {
     "name": "stderr",
     "output_type": "stream",
     "text": [
      " 28%|██▊       | 23/82 [44:42<1:53:57, 115.89s/it]"
     ]
    },
    {
     "name": "stdout",
     "output_type": "stream",
     "text": [
      "test loss: 1.895123 acc: 0.512\n",
      "Epoch 24| 82 training complete!\n",
      "------------------------------\n",
      "train loss: 3.097648\n"
     ]
    },
    {
     "name": "stderr",
     "output_type": "stream",
     "text": [
      " 29%|██▉       | 24/82 [46:39<1:52:29, 116.36s/it]"
     ]
    },
    {
     "name": "stdout",
     "output_type": "stream",
     "text": [
      "test loss: 1.853215 acc: 0.521\n",
      "Epoch 25| 82 training complete!\n",
      "------------------------------\n",
      "train loss: 3.079452\n"
     ]
    },
    {
     "name": "stderr",
     "output_type": "stream",
     "text": [
      " 30%|███       | 25/82 [48:33<1:49:39, 115.43s/it]"
     ]
    },
    {
     "name": "stdout",
     "output_type": "stream",
     "text": [
      "test loss: 1.894652 acc: 0.514\n",
      "Epoch 26| 82 training complete!\n",
      "------------------------------\n",
      "train loss: 3.081155\n"
     ]
    },
    {
     "name": "stderr",
     "output_type": "stream",
     "text": [
      " 32%|███▏      | 26/82 [50:31<1:48:40, 116.45s/it]"
     ]
    },
    {
     "name": "stdout",
     "output_type": "stream",
     "text": [
      "test loss: 1.856255 acc: 0.519\n",
      "Epoch 27| 82 training complete!\n",
      "------------------------------\n",
      "train loss: 3.051738\n"
     ]
    },
    {
     "name": "stderr",
     "output_type": "stream",
     "text": [
      " 33%|███▎      | 27/82 [52:26<1:46:11, 115.85s/it]"
     ]
    },
    {
     "name": "stdout",
     "output_type": "stream",
     "text": [
      "test loss: 1.869697 acc: 0.515\n",
      "Epoch 28| 82 training complete!\n",
      "------------------------------\n",
      "train loss: 3.062253\n"
     ]
    },
    {
     "name": "stderr",
     "output_type": "stream",
     "text": [
      " 34%|███▍      | 28/82 [54:26<1:45:18, 117.02s/it]"
     ]
    },
    {
     "name": "stdout",
     "output_type": "stream",
     "text": [
      "test loss: 1.846539 acc: 0.521\n",
      "Epoch 29| 82 training complete!\n",
      "------------------------------\n",
      "train loss: 3.060175\n"
     ]
    },
    {
     "name": "stderr",
     "output_type": "stream",
     "text": [
      " 35%|███▌      | 29/82 [56:22<1:43:06, 116.73s/it]"
     ]
    },
    {
     "name": "stdout",
     "output_type": "stream",
     "text": [
      "test loss: 1.842455 acc: 0.521\n",
      "Epoch 30| 82 training complete!\n",
      "------------------------------\n",
      "train loss: 3.021287\n"
     ]
    },
    {
     "name": "stderr",
     "output_type": "stream",
     "text": [
      " 37%|███▋      | 30/82 [58:19<1:41:26, 117.05s/it]"
     ]
    },
    {
     "name": "stdout",
     "output_type": "stream",
     "text": [
      "test loss: 1.815393 acc: 0.529\n",
      "Epoch 31| 82 training complete!\n",
      "------------------------------\n",
      "train loss: 3.023454\n"
     ]
    },
    {
     "name": "stderr",
     "output_type": "stream",
     "text": [
      " 38%|███▊      | 31/82 [1:00:17<1:39:35, 117.17s/it]"
     ]
    },
    {
     "name": "stdout",
     "output_type": "stream",
     "text": [
      "test loss: 1.819677 acc: 0.529\n",
      "Epoch 32| 82 training complete!\n",
      "------------------------------\n",
      "train loss: 3.026389\n"
     ]
    },
    {
     "name": "stderr",
     "output_type": "stream",
     "text": [
      " 39%|███▉      | 32/82 [1:02:17<1:38:17, 117.95s/it]"
     ]
    },
    {
     "name": "stdout",
     "output_type": "stream",
     "text": [
      "test loss: 1.818353 acc: 0.530\n",
      "Epoch 33| 82 training complete!\n",
      "------------------------------\n",
      "train loss: 3.007732\n"
     ]
    },
    {
     "name": "stderr",
     "output_type": "stream",
     "text": [
      " 40%|████      | 33/82 [1:04:11<1:35:19, 116.72s/it]"
     ]
    },
    {
     "name": "stdout",
     "output_type": "stream",
     "text": [
      "test loss: 1.846634 acc: 0.524\n",
      "Epoch 34| 82 training complete!\n",
      "------------------------------\n",
      "train loss: 3.007867\n"
     ]
    },
    {
     "name": "stderr",
     "output_type": "stream",
     "text": [
      " 41%|████▏     | 34/82 [1:06:08<1:33:30, 116.89s/it]"
     ]
    },
    {
     "name": "stdout",
     "output_type": "stream",
     "text": [
      "test loss: 1.819519 acc: 0.530\n",
      "Epoch 35| 82 training complete!\n",
      "------------------------------\n",
      "train loss: 2.999678\n"
     ]
    },
    {
     "name": "stderr",
     "output_type": "stream",
     "text": [
      " 43%|████▎     | 35/82 [1:08:06<1:31:47, 117.19s/it]"
     ]
    },
    {
     "name": "stdout",
     "output_type": "stream",
     "text": [
      "test loss: 1.805757 acc: 0.531\n",
      "Epoch 36| 82 training complete!\n",
      "------------------------------\n",
      "train loss: 3.003049\n"
     ]
    },
    {
     "name": "stderr",
     "output_type": "stream",
     "text": [
      " 44%|████▍     | 36/82 [1:10:03<1:29:49, 117.16s/it]"
     ]
    },
    {
     "name": "stdout",
     "output_type": "stream",
     "text": [
      "test loss: 1.839312 acc: 0.524\n",
      "Epoch 37| 82 training complete!\n",
      "------------------------------\n",
      "train loss: 2.997740\n"
     ]
    },
    {
     "name": "stderr",
     "output_type": "stream",
     "text": [
      " 45%|████▌     | 37/82 [1:11:57<1:27:18, 116.42s/it]"
     ]
    },
    {
     "name": "stdout",
     "output_type": "stream",
     "text": [
      "test loss: 1.816244 acc: 0.533\n",
      "Epoch 38| 82 training complete!\n",
      "------------------------------\n",
      "train loss: 2.972879\n"
     ]
    },
    {
     "name": "stderr",
     "output_type": "stream",
     "text": [
      " 46%|████▋     | 38/82 [1:13:53<1:25:14, 116.24s/it]"
     ]
    },
    {
     "name": "stdout",
     "output_type": "stream",
     "text": [
      "test loss: 1.783367 acc: 0.544\n",
      "Epoch 39| 82 training complete!\n",
      "------------------------------\n",
      "train loss: 2.996461\n"
     ]
    },
    {
     "name": "stderr",
     "output_type": "stream",
     "text": [
      " 48%|████▊     | 39/82 [1:15:52<1:23:51, 117.02s/it]"
     ]
    },
    {
     "name": "stdout",
     "output_type": "stream",
     "text": [
      "test loss: 1.790861 acc: 0.538\n",
      "Epoch 40| 82 training complete!\n",
      "------------------------------\n",
      "train loss: 2.968934\n"
     ]
    },
    {
     "name": "stderr",
     "output_type": "stream",
     "text": [
      " 49%|████▉     | 40/82 [1:17:49<1:21:52, 116.95s/it]"
     ]
    },
    {
     "name": "stdout",
     "output_type": "stream",
     "text": [
      "test loss: 1.800793 acc: 0.531\n",
      "Epoch 41| 82 training complete!\n",
      "------------------------------\n",
      "train loss: 2.994596\n"
     ]
    },
    {
     "name": "stderr",
     "output_type": "stream",
     "text": [
      " 50%|█████     | 41/82 [1:19:58<1:22:28, 120.70s/it]"
     ]
    },
    {
     "name": "stdout",
     "output_type": "stream",
     "text": [
      "test loss: 1.772099 acc: 0.544\n",
      "Epoch 42| 82 training complete!\n",
      "------------------------------\n",
      "train loss: 2.949818\n"
     ]
    },
    {
     "name": "stderr",
     "output_type": "stream",
     "text": [
      " 51%|█████     | 42/82 [1:22:07<1:22:02, 123.07s/it]"
     ]
    },
    {
     "name": "stdout",
     "output_type": "stream",
     "text": [
      "test loss: 1.813098 acc: 0.529\n",
      "Epoch 43| 82 training complete!\n",
      "------------------------------\n",
      "train loss: 2.960390\n"
     ]
    },
    {
     "name": "stderr",
     "output_type": "stream",
     "text": [
      " 52%|█████▏    | 43/82 [1:24:04<1:18:43, 121.11s/it]"
     ]
    },
    {
     "name": "stdout",
     "output_type": "stream",
     "text": [
      "test loss: 1.808771 acc: 0.537\n",
      "Epoch 44| 82 training complete!\n",
      "------------------------------\n",
      "train loss: 2.942400\n"
     ]
    },
    {
     "name": "stderr",
     "output_type": "stream",
     "text": [
      " 54%|█████▎    | 44/82 [1:26:03<1:16:21, 120.58s/it]"
     ]
    },
    {
     "name": "stdout",
     "output_type": "stream",
     "text": [
      "test loss: 1.767712 acc: 0.541\n",
      "Epoch 45| 82 training complete!\n",
      "------------------------------\n",
      "train loss: 2.941547\n"
     ]
    },
    {
     "name": "stderr",
     "output_type": "stream",
     "text": [
      " 55%|█████▍    | 45/82 [1:28:01<1:13:56, 119.90s/it]"
     ]
    },
    {
     "name": "stdout",
     "output_type": "stream",
     "text": [
      "test loss: 1.727762 acc: 0.544\n",
      "Epoch 46| 82 training complete!\n",
      "------------------------------\n",
      "train loss: 2.926733\n"
     ]
    },
    {
     "name": "stderr",
     "output_type": "stream",
     "text": [
      " 56%|█████▌    | 46/82 [1:29:52<1:10:20, 117.24s/it]"
     ]
    },
    {
     "name": "stdout",
     "output_type": "stream",
     "text": [
      "test loss: 1.764638 acc: 0.543\n",
      "Epoch 47| 82 training complete!\n",
      "------------------------------\n",
      "train loss: 2.914777\n"
     ]
    },
    {
     "name": "stderr",
     "output_type": "stream",
     "text": [
      " 57%|█████▋    | 47/82 [1:31:45<1:07:41, 116.05s/it]"
     ]
    },
    {
     "name": "stdout",
     "output_type": "stream",
     "text": [
      "test loss: 1.715283 acc: 0.551\n",
      "Epoch 48| 82 training complete!\n",
      "------------------------------\n",
      "train loss: 2.909250\n"
     ]
    },
    {
     "name": "stderr",
     "output_type": "stream",
     "text": [
      " 59%|█████▊    | 48/82 [1:33:45<1:06:16, 116.96s/it]"
     ]
    },
    {
     "name": "stdout",
     "output_type": "stream",
     "text": [
      "test loss: 1.741108 acc: 0.549\n",
      "Epoch 49| 82 training complete!\n",
      "------------------------------\n",
      "train loss: 2.905728\n"
     ]
    },
    {
     "name": "stderr",
     "output_type": "stream",
     "text": [
      " 60%|█████▉    | 49/82 [1:35:42<1:04:28, 117.23s/it]"
     ]
    },
    {
     "name": "stdout",
     "output_type": "stream",
     "text": [
      "test loss: 1.742321 acc: 0.549\n",
      "Epoch 50| 82 training complete!\n",
      "------------------------------\n",
      "train loss: 2.919859\n"
     ]
    },
    {
     "name": "stderr",
     "output_type": "stream",
     "text": [
      " 61%|██████    | 50/82 [1:37:41<1:02:49, 117.79s/it]"
     ]
    },
    {
     "name": "stdout",
     "output_type": "stream",
     "text": [
      "test loss: 1.727307 acc: 0.552\n",
      "Epoch 51| 82 training complete!\n",
      "------------------------------\n",
      "train loss: 2.897898\n"
     ]
    },
    {
     "name": "stderr",
     "output_type": "stream",
     "text": [
      " 62%|██████▏   | 51/82 [1:39:40<1:01:01, 118.13s/it]"
     ]
    },
    {
     "name": "stdout",
     "output_type": "stream",
     "text": [
      "test loss: 1.715645 acc: 0.557\n",
      "Epoch 52| 82 training complete!\n",
      "------------------------------\n",
      "train loss: 2.897598\n"
     ]
    },
    {
     "name": "stderr",
     "output_type": "stream",
     "text": [
      " 63%|██████▎   | 52/82 [1:41:37<58:53, 117.78s/it]  "
     ]
    },
    {
     "name": "stdout",
     "output_type": "stream",
     "text": [
      "test loss: 1.701235 acc: 0.552\n",
      "Epoch 53| 82 training complete!\n",
      "------------------------------\n",
      "train loss: 2.896784\n"
     ]
    },
    {
     "name": "stderr",
     "output_type": "stream",
     "text": [
      " 65%|██████▍   | 53/82 [1:43:36<57:05, 118.13s/it]"
     ]
    },
    {
     "name": "stdout",
     "output_type": "stream",
     "text": [
      "test loss: 1.765988 acc: 0.547\n",
      "Epoch 54| 82 training complete!\n",
      "------------------------------\n",
      "train loss: 2.910395\n"
     ]
    },
    {
     "name": "stderr",
     "output_type": "stream",
     "text": [
      " 66%|██████▌   | 54/82 [1:45:35<55:11, 118.25s/it]"
     ]
    },
    {
     "name": "stdout",
     "output_type": "stream",
     "text": [
      "test loss: 1.743557 acc: 0.549\n",
      "Epoch 55| 82 training complete!\n",
      "------------------------------\n",
      "train loss: 2.891096\n"
     ]
    },
    {
     "name": "stderr",
     "output_type": "stream",
     "text": [
      " 67%|██████▋   | 55/82 [1:47:35<53:26, 118.78s/it]"
     ]
    },
    {
     "name": "stdout",
     "output_type": "stream",
     "text": [
      "test loss: 1.684403 acc: 0.559\n",
      "Epoch 56| 82 training complete!\n",
      "------------------------------\n",
      "train loss: 2.889852\n"
     ]
    },
    {
     "name": "stderr",
     "output_type": "stream",
     "text": [
      " 68%|██████▊   | 56/82 [1:49:31<51:09, 118.06s/it]"
     ]
    },
    {
     "name": "stdout",
     "output_type": "stream",
     "text": [
      "test loss: 1.728039 acc: 0.554\n",
      "Epoch 57| 82 training complete!\n",
      "------------------------------\n",
      "train loss: 2.887652\n"
     ]
    },
    {
     "name": "stderr",
     "output_type": "stream",
     "text": [
      " 70%|██████▉   | 57/82 [1:51:31<49:21, 118.48s/it]"
     ]
    },
    {
     "name": "stdout",
     "output_type": "stream",
     "text": [
      "test loss: 1.724922 acc: 0.558\n",
      "Epoch 58| 82 training complete!\n",
      "------------------------------\n",
      "train loss: 2.883302\n"
     ]
    },
    {
     "name": "stderr",
     "output_type": "stream",
     "text": [
      " 71%|███████   | 58/82 [1:53:29<47:22, 118.43s/it]"
     ]
    },
    {
     "name": "stdout",
     "output_type": "stream",
     "text": [
      "test loss: 1.692953 acc: 0.564\n",
      "Epoch 59| 82 training complete!\n",
      "------------------------------\n",
      "train loss: 2.898399\n"
     ]
    },
    {
     "name": "stderr",
     "output_type": "stream",
     "text": [
      " 72%|███████▏  | 59/82 [1:55:27<45:22, 118.35s/it]"
     ]
    },
    {
     "name": "stdout",
     "output_type": "stream",
     "text": [
      "test loss: 1.745120 acc: 0.548\n",
      "Epoch 60| 82 training complete!\n",
      "------------------------------\n",
      "train loss: 2.870181\n"
     ]
    },
    {
     "name": "stderr",
     "output_type": "stream",
     "text": [
      " 73%|███████▎  | 60/82 [1:57:31<43:59, 119.97s/it]"
     ]
    },
    {
     "name": "stdout",
     "output_type": "stream",
     "text": [
      "test loss: 1.709925 acc: 0.556\n",
      "Epoch 61| 82 training complete!\n",
      "------------------------------\n",
      "train loss: 2.874573\n"
     ]
    },
    {
     "name": "stderr",
     "output_type": "stream",
     "text": [
      " 74%|███████▍  | 61/82 [1:59:30<41:51, 119.62s/it]"
     ]
    },
    {
     "name": "stdout",
     "output_type": "stream",
     "text": [
      "test loss: 1.698871 acc: 0.565\n",
      "Epoch 62| 82 training complete!\n",
      "------------------------------\n",
      "train loss: 2.858018\n"
     ]
    },
    {
     "name": "stderr",
     "output_type": "stream",
     "text": [
      " 76%|███████▌  | 62/82 [2:01:27<39:37, 118.85s/it]"
     ]
    },
    {
     "name": "stdout",
     "output_type": "stream",
     "text": [
      "test loss: 1.725104 acc: 0.555\n",
      "Epoch 63| 82 training complete!\n",
      "------------------------------\n",
      "train loss: 2.861848\n"
     ]
    },
    {
     "name": "stderr",
     "output_type": "stream",
     "text": [
      " 77%|███████▋  | 63/82 [2:03:28<37:51, 119.53s/it]"
     ]
    },
    {
     "name": "stdout",
     "output_type": "stream",
     "text": [
      "test loss: 1.710055 acc: 0.554\n",
      "Epoch 64| 82 training complete!\n",
      "------------------------------\n",
      "train loss: 2.857637\n"
     ]
    },
    {
     "name": "stderr",
     "output_type": "stream",
     "text": [
      " 78%|███████▊  | 64/82 [2:05:25<35:39, 118.87s/it]"
     ]
    },
    {
     "name": "stdout",
     "output_type": "stream",
     "text": [
      "test loss: 1.702779 acc: 0.557\n",
      "Epoch 65| 82 training complete!\n",
      "------------------------------\n",
      "train loss: 2.832114\n"
     ]
    },
    {
     "name": "stderr",
     "output_type": "stream",
     "text": [
      " 79%|███████▉  | 65/82 [2:07:25<33:46, 119.19s/it]"
     ]
    },
    {
     "name": "stdout",
     "output_type": "stream",
     "text": [
      "test loss: 1.717837 acc: 0.555\n",
      "Epoch 66| 82 training complete!\n",
      "------------------------------\n",
      "train loss: 2.833518\n"
     ]
    },
    {
     "name": "stderr",
     "output_type": "stream",
     "text": [
      " 80%|████████  | 66/82 [2:09:24<31:45, 119.12s/it]"
     ]
    },
    {
     "name": "stdout",
     "output_type": "stream",
     "text": [
      "test loss: 1.739235 acc: 0.554\n",
      "Epoch 67| 82 training complete!\n",
      "------------------------------\n",
      "train loss: 2.843169\n"
     ]
    },
    {
     "name": "stderr",
     "output_type": "stream",
     "text": [
      " 82%|████████▏ | 67/82 [2:11:24<29:52, 119.48s/it]"
     ]
    },
    {
     "name": "stdout",
     "output_type": "stream",
     "text": [
      "test loss: 1.669927 acc: 0.566\n",
      "Epoch 68| 82 training complete!\n",
      "------------------------------\n",
      "train loss: 2.831469\n"
     ]
    },
    {
     "name": "stderr",
     "output_type": "stream",
     "text": [
      " 83%|████████▎ | 68/82 [2:13:26<28:01, 120.07s/it]"
     ]
    },
    {
     "name": "stdout",
     "output_type": "stream",
     "text": [
      "test loss: 1.725287 acc: 0.554\n",
      "Epoch 69| 82 training complete!\n",
      "------------------------------\n",
      "train loss: 2.827601\n"
     ]
    },
    {
     "name": "stderr",
     "output_type": "stream",
     "text": [
      " 84%|████████▍ | 69/82 [2:15:24<25:53, 119.50s/it]"
     ]
    },
    {
     "name": "stdout",
     "output_type": "stream",
     "text": [
      "test loss: 1.693631 acc: 0.560\n",
      "Epoch 70| 82 training complete!\n",
      "------------------------------\n",
      "train loss: 2.815051\n"
     ]
    },
    {
     "name": "stderr",
     "output_type": "stream",
     "text": [
      " 85%|████████▌ | 70/82 [2:17:22<23:49, 119.11s/it]"
     ]
    },
    {
     "name": "stdout",
     "output_type": "stream",
     "text": [
      "test loss: 1.712336 acc: 0.556\n",
      "Epoch 71| 82 training complete!\n",
      "------------------------------\n",
      "train loss: 2.808479\n"
     ]
    },
    {
     "name": "stderr",
     "output_type": "stream",
     "text": [
      " 87%|████████▋ | 71/82 [2:19:19<21:43, 118.47s/it]"
     ]
    },
    {
     "name": "stdout",
     "output_type": "stream",
     "text": [
      "test loss: 1.670100 acc: 0.571\n",
      "Epoch 72| 82 training complete!\n",
      "------------------------------\n",
      "train loss: 2.802547\n"
     ]
    },
    {
     "name": "stderr",
     "output_type": "stream",
     "text": [
      " 88%|████████▊ | 72/82 [2:21:17<19:42, 118.25s/it]"
     ]
    },
    {
     "name": "stdout",
     "output_type": "stream",
     "text": [
      "test loss: 1.671885 acc: 0.568\n",
      "Epoch 73| 82 training complete!\n",
      "------------------------------\n",
      "train loss: 2.818364\n"
     ]
    },
    {
     "name": "stderr",
     "output_type": "stream",
     "text": [
      " 89%|████████▉ | 73/82 [2:23:16<17:47, 118.61s/it]"
     ]
    },
    {
     "name": "stdout",
     "output_type": "stream",
     "text": [
      "test loss: 1.711450 acc: 0.559\n",
      "Epoch 74| 82 training complete!\n",
      "------------------------------\n",
      "train loss: 2.819595\n"
     ]
    },
    {
     "name": "stderr",
     "output_type": "stream",
     "text": [
      " 90%|█████████ | 74/82 [2:25:17<15:52, 119.08s/it]"
     ]
    },
    {
     "name": "stdout",
     "output_type": "stream",
     "text": [
      "test loss: 1.686667 acc: 0.569\n",
      "Epoch 75| 82 training complete!\n",
      "------------------------------\n",
      "train loss: 2.819520\n"
     ]
    },
    {
     "name": "stderr",
     "output_type": "stream",
     "text": [
      " 91%|█████████▏| 75/82 [2:27:15<13:52, 118.89s/it]"
     ]
    },
    {
     "name": "stdout",
     "output_type": "stream",
     "text": [
      "test loss: 1.688740 acc: 0.562\n",
      "Epoch 76| 82 training complete!\n",
      "------------------------------\n",
      "train loss: 2.797717\n"
     ]
    },
    {
     "name": "stderr",
     "output_type": "stream",
     "text": [
      " 93%|█████████▎| 76/82 [2:29:15<11:54, 119.16s/it]"
     ]
    },
    {
     "name": "stdout",
     "output_type": "stream",
     "text": [
      "test loss: 1.687670 acc: 0.564\n",
      "Epoch 77| 82 training complete!\n",
      "------------------------------\n",
      "train loss: 2.796143\n"
     ]
    },
    {
     "name": "stderr",
     "output_type": "stream",
     "text": [
      " 94%|█████████▍| 77/82 [2:31:13<09:53, 118.73s/it]"
     ]
    },
    {
     "name": "stdout",
     "output_type": "stream",
     "text": [
      "test loss: 1.674625 acc: 0.560\n",
      "Epoch 78| 82 training complete!\n",
      "------------------------------\n",
      "train loss: 2.793180\n"
     ]
    },
    {
     "name": "stderr",
     "output_type": "stream",
     "text": [
      " 95%|█████████▌| 78/82 [2:33:13<07:56, 119.16s/it]"
     ]
    },
    {
     "name": "stdout",
     "output_type": "stream",
     "text": [
      "test loss: 1.677996 acc: 0.566\n",
      "Epoch 79| 82 training complete!\n",
      "------------------------------\n",
      "train loss: 2.786720\n"
     ]
    },
    {
     "name": "stderr",
     "output_type": "stream",
     "text": [
      " 96%|█████████▋| 79/82 [2:35:10<05:55, 118.57s/it]"
     ]
    },
    {
     "name": "stdout",
     "output_type": "stream",
     "text": [
      "test loss: 1.662538 acc: 0.571\n",
      "Epoch 80| 82 training complete!\n",
      "------------------------------\n",
      "train loss: 2.812435\n"
     ]
    },
    {
     "name": "stderr",
     "output_type": "stream",
     "text": [
      " 98%|█████████▊| 80/82 [2:37:09<03:57, 118.75s/it]"
     ]
    },
    {
     "name": "stdout",
     "output_type": "stream",
     "text": [
      "test loss: 1.671776 acc: 0.566\n",
      "Epoch 81| 82 training complete!\n",
      "------------------------------\n",
      "train loss: 2.785828\n"
     ]
    },
    {
     "name": "stderr",
     "output_type": "stream",
     "text": [
      " 99%|█████████▉| 81/82 [2:39:08<01:58, 118.83s/it]"
     ]
    },
    {
     "name": "stdout",
     "output_type": "stream",
     "text": [
      "test loss: 1.708320 acc: 0.562\n",
      "Epoch 82| 82 training complete!\n",
      "------------------------------\n",
      "train loss: 2.765031\n"
     ]
    },
    {
     "name": "stderr",
     "output_type": "stream",
     "text": [
      "100%|██████████| 82/82 [2:41:09<00:00, 117.92s/it]"
     ]
    },
    {
     "name": "stdout",
     "output_type": "stream",
     "text": [
      "test loss: 1.714555 acc: 0.560\n"
     ]
    },
    {
     "name": "stderr",
     "output_type": "stream",
     "text": [
      "\n"
     ]
    }
   ],
   "source": [
    "train_model(model, train_dataloader, test_dataloader, optimizer, loss_fun, num_epoches= epoches, cutmix_flag= True)"
   ]
  }
 ],
 "metadata": {
  "kernelspec": {
   "display_name": "pytorch",
   "language": "python",
   "name": "python3"
  },
  "language_info": {
   "codemirror_mode": {
    "name": "ipython",
    "version": 3
   },
   "file_extension": ".py",
   "mimetype": "text/x-python",
   "name": "python",
   "nbconvert_exporter": "python",
   "pygments_lexer": "ipython3",
   "version": "3.11.5"
  }
 },
 "nbformat": 4,
 "nbformat_minor": 2
}
