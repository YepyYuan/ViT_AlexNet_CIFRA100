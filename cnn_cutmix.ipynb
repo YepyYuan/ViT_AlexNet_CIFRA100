{
 "cells": [
  {
   "cell_type": "code",
   "execution_count": 1,
   "metadata": {},
   "outputs": [],
   "source": [
    "import torch\n",
    "import torch.nn as nn\n",
    "import torchvision\n",
    "from torchvision import transforms\n",
    "from torch.utils.data import DataLoader\n",
    "from torchvision.transforms import v2\n",
    "from train import train_model\n",
    "from torchvision.models import alexnet, AlexNet_Weights"
   ]
  },
  {
   "cell_type": "code",
   "execution_count": 2,
   "metadata": {},
   "outputs": [
    {
     "name": "stdout",
     "output_type": "stream",
     "text": [
      "Files already downloaded and verified\n",
      "Files already downloaded and verified\n"
     ]
    }
   ],
   "source": [
    "mean = (0.5070751592371323, 0.48654887331495095, 0.4409178433670343)\n",
    "std = (0.2673342858792401, 0.2564384629170883, 0.27615047132568404)\n",
    "\n",
    "train_transform = transforms.Compose([\n",
    "        v2.RandomResizedCrop(size=(224, 224), antialias=True),\n",
    "        transforms.RandomHorizontalFlip(),\n",
    "        transforms.RandomRotation(15),\n",
    "        transforms.ToTensor(),\n",
    "        transforms.Normalize(mean, std)\n",
    "])\n",
    "\n",
    "test_transform = transforms.Compose([\n",
    "        v2.RandomResizedCrop(size=(224, 224), antialias=True),\n",
    "        transforms.ToTensor(),\n",
    "        transforms.Normalize(mean, std)\n",
    "])\n",
    "\n",
    "train_data = torchvision.datasets.CIFAR100(\"./data\", train=True, \n",
    "                                     transform=train_transform,download=True)\n",
    "\n",
    "test_data = torchvision.datasets.CIFAR100(\"./data\", train=False, \n",
    "                                     transform=test_transform,download=True)"
   ]
  },
  {
   "cell_type": "code",
   "execution_count": 3,
   "metadata": {},
   "outputs": [],
   "source": [
    "\n",
    "train_dataloader = DataLoader(train_data, batch_size=32, shuffle=True)\n",
    "test_dataloader = DataLoader(test_data, batch_size=32, shuffle=True)"
   ]
  },
  {
   "cell_type": "code",
   "execution_count": 4,
   "metadata": {},
   "outputs": [],
   "source": [
    "device = torch.device('cuda' if torch.cuda.is_available() else 'cpu')\n",
    "\n",
    "epoches = 82\n",
    "lr = 0.001\n",
    "\n",
    "# weights = AlexNet_Weights.DEFAULT\n",
    "# model = alexnet(weights=weights)\n",
    "model = alexnet()\n",
    "\n",
    "model.classifier[6] = nn.Linear(model.classifier[6].in_features, 2048)\n",
    "model.classifier.add_module (name='7', module=nn.ReLU(inplace=True))\n",
    "model.classifier.add_module (name='8', module=nn.Linear(2048, 1024))\n",
    "model.classifier.add_module (name='9', module=nn.ReLU(inplace=True))\n",
    "model.classifier.add_module (name='10', module=nn.Linear(1024, 100))\n",
    "model = model.to(device)\n",
    "\n",
    "loss_fun = nn.CrossEntropyLoss()\n",
    "optimizer = torch.optim.SGD(model.parameters(), lr= lr, momentum=0.9)"
   ]
  },
  {
   "cell_type": "code",
   "execution_count": 5,
   "metadata": {},
   "outputs": [
    {
     "data": {
      "text/plain": [
       "67595172"
      ]
     },
     "execution_count": 5,
     "metadata": {},
     "output_type": "execute_result"
    }
   ],
   "source": [
    "sum([p.numel() for p in model.parameters()])"
   ]
  },
  {
   "cell_type": "code",
   "execution_count": 6,
   "metadata": {},
   "outputs": [
    {
     "name": "stderr",
     "output_type": "stream",
     "text": [
      "  0%|          | 0/82 [00:00<?, ?it/s]"
     ]
    },
    {
     "name": "stdout",
     "output_type": "stream",
     "text": [
      "Epoch 1| 82 training complete!\n",
      "------------------------------\n",
      "train loss: 4.605507\n"
     ]
    },
    {
     "name": "stderr",
     "output_type": "stream",
     "text": [
      "  1%|          | 1/82 [01:56<2:36:58, 116.28s/it]"
     ]
    },
    {
     "name": "stdout",
     "output_type": "stream",
     "text": [
      "test loss: 4.605269 acc: 0.013\n",
      "Epoch 2| 82 training complete!\n",
      "------------------------------\n",
      "train loss: 4.605443\n"
     ]
    },
    {
     "name": "stderr",
     "output_type": "stream",
     "text": [
      "  2%|▏         | 2/82 [03:55<2:37:43, 118.29s/it]"
     ]
    },
    {
     "name": "stdout",
     "output_type": "stream",
     "text": [
      "test loss: 4.605214 acc: 0.010\n",
      "Epoch 3| 82 training complete!\n",
      "------------------------------\n",
      "train loss: 4.605400\n"
     ]
    },
    {
     "name": "stderr",
     "output_type": "stream",
     "text": [
      "  4%|▎         | 3/82 [05:52<2:34:25, 117.29s/it]"
     ]
    },
    {
     "name": "stdout",
     "output_type": "stream",
     "text": [
      "test loss: 4.605180 acc: 0.010\n",
      "Epoch 4| 82 training complete!\n",
      "------------------------------\n",
      "train loss: 4.605367\n"
     ]
    },
    {
     "name": "stderr",
     "output_type": "stream",
     "text": [
      "  5%|▍         | 4/82 [07:49<2:32:30, 117.31s/it]"
     ]
    },
    {
     "name": "stdout",
     "output_type": "stream",
     "text": [
      "test loss: 4.605136 acc: 0.010\n",
      "Epoch 5| 82 training complete!\n",
      "------------------------------\n",
      "train loss: 4.605328\n"
     ]
    },
    {
     "name": "stderr",
     "output_type": "stream",
     "text": [
      "  6%|▌         | 5/82 [09:49<2:32:00, 118.44s/it]"
     ]
    },
    {
     "name": "stdout",
     "output_type": "stream",
     "text": [
      "test loss: 4.605091 acc: 0.010\n",
      "Epoch 6| 82 training complete!\n",
      "------------------------------\n",
      "train loss: 4.605292\n"
     ]
    },
    {
     "name": "stderr",
     "output_type": "stream",
     "text": [
      "  7%|▋         | 6/82 [11:46<2:29:04, 117.69s/it]"
     ]
    },
    {
     "name": "stdout",
     "output_type": "stream",
     "text": [
      "test loss: 4.605029 acc: 0.010\n",
      "Epoch 7| 82 training complete!\n",
      "------------------------------\n",
      "train loss: 4.605231\n"
     ]
    },
    {
     "name": "stderr",
     "output_type": "stream",
     "text": [
      "  9%|▊         | 7/82 [13:43<2:26:56, 117.55s/it]"
     ]
    },
    {
     "name": "stdout",
     "output_type": "stream",
     "text": [
      "test loss: 4.604917 acc: 0.015\n",
      "Epoch 8| 82 training complete!\n",
      "------------------------------\n",
      "train loss: 4.605129\n"
     ]
    },
    {
     "name": "stderr",
     "output_type": "stream",
     "text": [
      " 10%|▉         | 8/82 [15:42<2:25:43, 118.15s/it]"
     ]
    },
    {
     "name": "stdout",
     "output_type": "stream",
     "text": [
      "test loss: 4.604647 acc: 0.019\n",
      "Epoch 9| 82 training complete!\n",
      "------------------------------\n",
      "train loss: 4.604768\n"
     ]
    },
    {
     "name": "stderr",
     "output_type": "stream",
     "text": [
      " 11%|█         | 9/82 [17:37<2:22:35, 117.19s/it]"
     ]
    },
    {
     "name": "stdout",
     "output_type": "stream",
     "text": [
      "test loss: 4.603536 acc: 0.014\n",
      "Epoch 10| 82 training complete!\n",
      "------------------------------\n",
      "train loss: 4.590370\n"
     ]
    },
    {
     "name": "stderr",
     "output_type": "stream",
     "text": [
      " 12%|█▏        | 10/82 [19:35<2:20:47, 117.33s/it]"
     ]
    },
    {
     "name": "stdout",
     "output_type": "stream",
     "text": [
      "test loss: 4.515863 acc: 0.018\n",
      "Epoch 11| 82 training complete!\n",
      "------------------------------\n",
      "train loss: 4.540766\n"
     ]
    },
    {
     "name": "stderr",
     "output_type": "stream",
     "text": [
      " 13%|█▎        | 11/82 [21:30<2:17:49, 116.47s/it]"
     ]
    },
    {
     "name": "stdout",
     "output_type": "stream",
     "text": [
      "test loss: 4.481182 acc: 0.020\n",
      "Epoch 12| 82 training complete!\n",
      "------------------------------\n",
      "train loss: 4.531833\n"
     ]
    },
    {
     "name": "stderr",
     "output_type": "stream",
     "text": [
      " 15%|█▍        | 12/82 [23:27<2:16:05, 116.65s/it]"
     ]
    },
    {
     "name": "stdout",
     "output_type": "stream",
     "text": [
      "test loss: 4.474003 acc: 0.020\n",
      "Epoch 13| 82 training complete!\n",
      "------------------------------\n",
      "train loss: 4.523085\n"
     ]
    },
    {
     "name": "stderr",
     "output_type": "stream",
     "text": [
      " 16%|█▌        | 13/82 [25:23<2:13:56, 116.47s/it]"
     ]
    },
    {
     "name": "stdout",
     "output_type": "stream",
     "text": [
      "test loss: 4.458841 acc: 0.023\n",
      "Epoch 14| 82 training complete!\n",
      "------------------------------\n",
      "train loss: 4.511657\n"
     ]
    },
    {
     "name": "stderr",
     "output_type": "stream",
     "text": [
      " 17%|█▋        | 14/82 [27:21<2:12:39, 117.05s/it]"
     ]
    },
    {
     "name": "stdout",
     "output_type": "stream",
     "text": [
      "test loss: 4.441755 acc: 0.021\n",
      "Epoch 15| 82 training complete!\n",
      "------------------------------\n",
      "train loss: 4.502568\n"
     ]
    },
    {
     "name": "stderr",
     "output_type": "stream",
     "text": [
      " 18%|█▊        | 15/82 [29:19<2:10:52, 117.21s/it]"
     ]
    },
    {
     "name": "stdout",
     "output_type": "stream",
     "text": [
      "test loss: 4.430664 acc: 0.024\n",
      "Epoch 16| 82 training complete!\n",
      "------------------------------\n",
      "train loss: 4.488088\n"
     ]
    },
    {
     "name": "stderr",
     "output_type": "stream",
     "text": [
      " 20%|█▉        | 16/82 [31:17<2:09:10, 117.43s/it]"
     ]
    },
    {
     "name": "stdout",
     "output_type": "stream",
     "text": [
      "test loss: 4.394924 acc: 0.024\n",
      "Epoch 17| 82 training complete!\n",
      "------------------------------\n",
      "train loss: 4.463445\n"
     ]
    },
    {
     "name": "stderr",
     "output_type": "stream",
     "text": [
      " 21%|██        | 17/82 [33:13<2:06:43, 116.98s/it]"
     ]
    },
    {
     "name": "stdout",
     "output_type": "stream",
     "text": [
      "test loss: 4.347407 acc: 0.027\n",
      "Epoch 18| 82 training complete!\n",
      "------------------------------\n",
      "train loss: 4.447899\n"
     ]
    },
    {
     "name": "stderr",
     "output_type": "stream",
     "text": [
      " 22%|██▏       | 18/82 [35:09<2:04:33, 116.78s/it]"
     ]
    },
    {
     "name": "stdout",
     "output_type": "stream",
     "text": [
      "test loss: 4.323105 acc: 0.032\n",
      "Epoch 19| 82 training complete!\n",
      "------------------------------\n",
      "train loss: 4.438854\n"
     ]
    },
    {
     "name": "stderr",
     "output_type": "stream",
     "text": [
      " 23%|██▎       | 19/82 [37:04<2:02:13, 116.40s/it]"
     ]
    },
    {
     "name": "stdout",
     "output_type": "stream",
     "text": [
      "test loss: 4.289325 acc: 0.036\n",
      "Epoch 20| 82 training complete!\n",
      "------------------------------\n",
      "train loss: 4.408349\n"
     ]
    },
    {
     "name": "stderr",
     "output_type": "stream",
     "text": [
      " 24%|██▍       | 20/82 [39:03<2:00:52, 116.97s/it]"
     ]
    },
    {
     "name": "stdout",
     "output_type": "stream",
     "text": [
      "test loss: 4.220425 acc: 0.047\n",
      "Epoch 21| 82 training complete!\n",
      "------------------------------\n",
      "train loss: 4.373680\n"
     ]
    },
    {
     "name": "stderr",
     "output_type": "stream",
     "text": [
      " 26%|██▌       | 21/82 [40:58<1:58:26, 116.50s/it]"
     ]
    },
    {
     "name": "stdout",
     "output_type": "stream",
     "text": [
      "test loss: 4.194095 acc: 0.058\n",
      "Epoch 22| 82 training complete!\n",
      "------------------------------\n",
      "train loss: 4.342848\n"
     ]
    },
    {
     "name": "stderr",
     "output_type": "stream",
     "text": [
      " 27%|██▋       | 22/82 [42:56<1:56:52, 116.87s/it]"
     ]
    },
    {
     "name": "stdout",
     "output_type": "stream",
     "text": [
      "test loss: 4.144100 acc: 0.062\n",
      "Epoch 23| 82 training complete!\n",
      "------------------------------\n",
      "train loss: 4.315451\n"
     ]
    },
    {
     "name": "stderr",
     "output_type": "stream",
     "text": [
      " 28%|██▊       | 23/82 [44:49<1:53:54, 115.84s/it]"
     ]
    },
    {
     "name": "stdout",
     "output_type": "stream",
     "text": [
      "test loss: 4.081711 acc: 0.074\n",
      "Epoch 24| 82 training complete!\n",
      "------------------------------\n",
      "train loss: 4.289815\n"
     ]
    },
    {
     "name": "stderr",
     "output_type": "stream",
     "text": [
      " 29%|██▉       | 24/82 [46:48<1:52:44, 116.63s/it]"
     ]
    },
    {
     "name": "stdout",
     "output_type": "stream",
     "text": [
      "test loss: 4.084968 acc: 0.072\n",
      "Epoch 25| 82 training complete!\n",
      "------------------------------\n",
      "train loss: 4.276664\n"
     ]
    },
    {
     "name": "stderr",
     "output_type": "stream",
     "text": [
      " 30%|███       | 25/82 [48:41<1:49:59, 115.78s/it]"
     ]
    },
    {
     "name": "stdout",
     "output_type": "stream",
     "text": [
      "test loss: 4.040140 acc: 0.083\n",
      "Epoch 26| 82 training complete!\n",
      "------------------------------\n",
      "train loss: 4.258013\n"
     ]
    },
    {
     "name": "stderr",
     "output_type": "stream",
     "text": [
      " 32%|███▏      | 26/82 [50:41<1:49:04, 116.87s/it]"
     ]
    },
    {
     "name": "stdout",
     "output_type": "stream",
     "text": [
      "test loss: 3.986056 acc: 0.085\n",
      "Epoch 27| 82 training complete!\n",
      "------------------------------\n",
      "train loss: 4.243000\n"
     ]
    },
    {
     "name": "stderr",
     "output_type": "stream",
     "text": [
      " 33%|███▎      | 27/82 [52:35<1:46:30, 116.19s/it]"
     ]
    },
    {
     "name": "stdout",
     "output_type": "stream",
     "text": [
      "test loss: 3.953015 acc: 0.088\n",
      "Epoch 28| 82 training complete!\n",
      "------------------------------\n",
      "train loss: 4.225166\n"
     ]
    },
    {
     "name": "stderr",
     "output_type": "stream",
     "text": [
      " 34%|███▍      | 28/82 [54:36<1:45:43, 117.47s/it]"
     ]
    },
    {
     "name": "stdout",
     "output_type": "stream",
     "text": [
      "test loss: 3.916375 acc: 0.095\n",
      "Epoch 29| 82 training complete!\n",
      "------------------------------\n",
      "train loss: 4.214685\n"
     ]
    },
    {
     "name": "stderr",
     "output_type": "stream",
     "text": [
      " 35%|███▌      | 29/82 [56:35<1:44:04, 117.82s/it]"
     ]
    },
    {
     "name": "stdout",
     "output_type": "stream",
     "text": [
      "test loss: 3.910146 acc: 0.098\n",
      "Epoch 30| 82 training complete!\n",
      "------------------------------\n",
      "train loss: 4.197112\n"
     ]
    },
    {
     "name": "stderr",
     "output_type": "stream",
     "text": [
      " 37%|███▋      | 30/82 [58:34<1:42:31, 118.29s/it]"
     ]
    },
    {
     "name": "stdout",
     "output_type": "stream",
     "text": [
      "test loss: 3.906131 acc: 0.106\n",
      "Epoch 31| 82 training complete!\n",
      "------------------------------\n",
      "train loss: 4.193459\n"
     ]
    },
    {
     "name": "stderr",
     "output_type": "stream",
     "text": [
      " 38%|███▊      | 31/82 [1:00:28<1:39:34, 117.14s/it]"
     ]
    },
    {
     "name": "stdout",
     "output_type": "stream",
     "text": [
      "test loss: 3.913176 acc: 0.105\n",
      "Epoch 32| 82 training complete!\n",
      "------------------------------\n",
      "train loss: 4.172835\n"
     ]
    },
    {
     "name": "stderr",
     "output_type": "stream",
     "text": [
      " 39%|███▉      | 32/82 [1:02:26<1:37:49, 117.39s/it]"
     ]
    },
    {
     "name": "stdout",
     "output_type": "stream",
     "text": [
      "test loss: 3.868926 acc: 0.108\n",
      "Epoch 33| 82 training complete!\n",
      "------------------------------\n",
      "train loss: 4.152551\n"
     ]
    },
    {
     "name": "stderr",
     "output_type": "stream",
     "text": [
      " 40%|████      | 33/82 [1:04:25<1:36:08, 117.72s/it]"
     ]
    },
    {
     "name": "stdout",
     "output_type": "stream",
     "text": [
      "test loss: 3.823196 acc: 0.113\n",
      "Epoch 34| 82 training complete!\n",
      "------------------------------\n",
      "train loss: 4.144455\n"
     ]
    },
    {
     "name": "stderr",
     "output_type": "stream",
     "text": [
      " 41%|████▏     | 34/82 [1:06:23<1:34:08, 117.68s/it]"
     ]
    },
    {
     "name": "stdout",
     "output_type": "stream",
     "text": [
      "test loss: 3.791537 acc: 0.119\n",
      "Epoch 35| 82 training complete!\n",
      "------------------------------\n",
      "train loss: 4.130464\n"
     ]
    },
    {
     "name": "stderr",
     "output_type": "stream",
     "text": [
      " 43%|████▎     | 35/82 [1:08:19<1:31:50, 117.25s/it]"
     ]
    },
    {
     "name": "stdout",
     "output_type": "stream",
     "text": [
      "test loss: 3.758033 acc: 0.125\n",
      "Epoch 36| 82 training complete!\n",
      "------------------------------\n",
      "train loss: 4.110375\n"
     ]
    },
    {
     "name": "stderr",
     "output_type": "stream",
     "text": [
      " 44%|████▍     | 36/82 [1:10:15<1:29:34, 116.83s/it]"
     ]
    },
    {
     "name": "stdout",
     "output_type": "stream",
     "text": [
      "test loss: 3.747148 acc: 0.128\n",
      "Epoch 37| 82 training complete!\n",
      "------------------------------\n",
      "train loss: 4.100154\n"
     ]
    },
    {
     "name": "stderr",
     "output_type": "stream",
     "text": [
      " 45%|████▌     | 37/82 [1:12:12<1:27:49, 117.09s/it]"
     ]
    },
    {
     "name": "stdout",
     "output_type": "stream",
     "text": [
      "test loss: 3.693405 acc: 0.131\n",
      "Epoch 38| 82 training complete!\n",
      "------------------------------\n",
      "train loss: 4.085915\n"
     ]
    },
    {
     "name": "stderr",
     "output_type": "stream",
     "text": [
      " 46%|████▋     | 38/82 [1:14:09<1:25:51, 117.09s/it]"
     ]
    },
    {
     "name": "stdout",
     "output_type": "stream",
     "text": [
      "test loss: 3.691998 acc: 0.139\n",
      "Epoch 39| 82 training complete!\n",
      "------------------------------\n",
      "train loss: 4.068116\n"
     ]
    },
    {
     "name": "stderr",
     "output_type": "stream",
     "text": [
      " 48%|████▊     | 39/82 [1:16:14<1:25:32, 119.36s/it]"
     ]
    },
    {
     "name": "stdout",
     "output_type": "stream",
     "text": [
      "test loss: 3.639151 acc: 0.152\n",
      "Epoch 40| 82 training complete!\n",
      "------------------------------\n",
      "train loss: 4.055642\n"
     ]
    },
    {
     "name": "stderr",
     "output_type": "stream",
     "text": [
      " 49%|████▉     | 40/82 [1:18:28<1:26:35, 123.71s/it]"
     ]
    },
    {
     "name": "stdout",
     "output_type": "stream",
     "text": [
      "test loss: 3.628122 acc: 0.149\n",
      "Epoch 41| 82 training complete!\n",
      "------------------------------\n",
      "train loss: 4.053418\n"
     ]
    },
    {
     "name": "stderr",
     "output_type": "stream",
     "text": [
      " 50%|█████     | 41/82 [1:20:25<1:23:09, 121.69s/it]"
     ]
    },
    {
     "name": "stdout",
     "output_type": "stream",
     "text": [
      "test loss: 3.628694 acc: 0.150\n",
      "Epoch 42| 82 training complete!\n",
      "------------------------------\n",
      "train loss: 4.021230\n"
     ]
    },
    {
     "name": "stderr",
     "output_type": "stream",
     "text": [
      " 51%|█████     | 42/82 [1:22:23<1:20:25, 120.65s/it]"
     ]
    },
    {
     "name": "stdout",
     "output_type": "stream",
     "text": [
      "test loss: 3.576285 acc: 0.158\n",
      "Epoch 43| 82 training complete!\n",
      "------------------------------\n",
      "train loss: 4.014896\n"
     ]
    },
    {
     "name": "stderr",
     "output_type": "stream",
     "text": [
      " 52%|█████▏    | 43/82 [1:24:21<1:17:55, 119.90s/it]"
     ]
    },
    {
     "name": "stdout",
     "output_type": "stream",
     "text": [
      "test loss: 3.550563 acc: 0.170\n",
      "Epoch 44| 82 training complete!\n",
      "------------------------------\n",
      "train loss: 4.012805\n"
     ]
    },
    {
     "name": "stderr",
     "output_type": "stream",
     "text": [
      " 54%|█████▎    | 44/82 [1:26:13<1:14:23, 117.45s/it]"
     ]
    },
    {
     "name": "stdout",
     "output_type": "stream",
     "text": [
      "test loss: 3.512419 acc: 0.173\n",
      "Epoch 45| 82 training complete!\n",
      "------------------------------\n",
      "train loss: 3.983318\n"
     ]
    },
    {
     "name": "stderr",
     "output_type": "stream",
     "text": [
      " 55%|█████▍    | 45/82 [1:28:06<1:11:42, 116.27s/it]"
     ]
    },
    {
     "name": "stdout",
     "output_type": "stream",
     "text": [
      "test loss: 3.458352 acc: 0.178\n",
      "Epoch 46| 82 training complete!\n",
      "------------------------------\n",
      "train loss: 3.974238\n"
     ]
    },
    {
     "name": "stderr",
     "output_type": "stream",
     "text": [
      " 56%|█████▌    | 46/82 [1:30:06<1:10:16, 117.12s/it]"
     ]
    },
    {
     "name": "stdout",
     "output_type": "stream",
     "text": [
      "test loss: 3.453921 acc: 0.181\n",
      "Epoch 47| 82 training complete!\n",
      "------------------------------\n",
      "train loss: 3.962697\n"
     ]
    },
    {
     "name": "stderr",
     "output_type": "stream",
     "text": [
      " 57%|█████▋    | 47/82 [1:32:03<1:08:23, 117.24s/it]"
     ]
    },
    {
     "name": "stdout",
     "output_type": "stream",
     "text": [
      "test loss: 3.451674 acc: 0.185\n",
      "Epoch 48| 82 training complete!\n",
      "------------------------------\n",
      "train loss: 3.944628\n"
     ]
    },
    {
     "name": "stderr",
     "output_type": "stream",
     "text": [
      " 59%|█████▊    | 48/82 [1:34:03<1:06:55, 118.12s/it]"
     ]
    },
    {
     "name": "stdout",
     "output_type": "stream",
     "text": [
      "test loss: 3.439907 acc: 0.189\n",
      "Epoch 49| 82 training complete!\n",
      "------------------------------\n",
      "train loss: 3.932894\n"
     ]
    },
    {
     "name": "stderr",
     "output_type": "stream",
     "text": [
      " 60%|█████▉    | 49/82 [1:36:03<1:05:13, 118.60s/it]"
     ]
    },
    {
     "name": "stdout",
     "output_type": "stream",
     "text": [
      "test loss: 3.390249 acc: 0.195\n",
      "Epoch 50| 82 training complete!\n",
      "------------------------------\n",
      "train loss: 3.927394\n"
     ]
    },
    {
     "name": "stderr",
     "output_type": "stream",
     "text": [
      " 61%|██████    | 50/82 [1:38:01<1:03:12, 118.51s/it]"
     ]
    },
    {
     "name": "stdout",
     "output_type": "stream",
     "text": [
      "test loss: 3.342980 acc: 0.192\n",
      "Epoch 51| 82 training complete!\n",
      "------------------------------\n",
      "train loss: 3.904496\n"
     ]
    },
    {
     "name": "stderr",
     "output_type": "stream",
     "text": [
      " 62%|██████▏   | 51/82 [1:40:02<1:01:32, 119.12s/it]"
     ]
    },
    {
     "name": "stdout",
     "output_type": "stream",
     "text": [
      "test loss: 3.329488 acc: 0.197\n",
      "Epoch 52| 82 training complete!\n",
      "------------------------------\n",
      "train loss: 3.888642\n"
     ]
    },
    {
     "name": "stderr",
     "output_type": "stream",
     "text": [
      " 63%|██████▎   | 52/82 [1:42:00<59:27, 118.92s/it]  "
     ]
    },
    {
     "name": "stdout",
     "output_type": "stream",
     "text": [
      "test loss: 3.296500 acc: 0.208\n",
      "Epoch 53| 82 training complete!\n",
      "------------------------------\n",
      "train loss: 3.895206\n"
     ]
    },
    {
     "name": "stderr",
     "output_type": "stream",
     "text": [
      " 65%|██████▍   | 53/82 [1:43:58<57:17, 118.53s/it]"
     ]
    },
    {
     "name": "stdout",
     "output_type": "stream",
     "text": [
      "test loss: 3.282587 acc: 0.211\n",
      "Epoch 54| 82 training complete!\n",
      "------------------------------\n",
      "train loss: 3.866652\n"
     ]
    },
    {
     "name": "stderr",
     "output_type": "stream",
     "text": [
      " 66%|██████▌   | 54/82 [1:45:55<55:03, 117.98s/it]"
     ]
    },
    {
     "name": "stdout",
     "output_type": "stream",
     "text": [
      "test loss: 3.312978 acc: 0.210\n",
      "Epoch 55| 82 training complete!\n",
      "------------------------------\n",
      "train loss: 3.862003\n"
     ]
    },
    {
     "name": "stderr",
     "output_type": "stream",
     "text": [
      " 67%|██████▋   | 55/82 [1:47:55<53:25, 118.73s/it]"
     ]
    },
    {
     "name": "stdout",
     "output_type": "stream",
     "text": [
      "test loss: 3.253721 acc: 0.222\n",
      "Epoch 56| 82 training complete!\n",
      "------------------------------\n",
      "train loss: 3.851852\n"
     ]
    },
    {
     "name": "stderr",
     "output_type": "stream",
     "text": [
      " 68%|██████▊   | 56/82 [1:49:53<51:23, 118.61s/it]"
     ]
    },
    {
     "name": "stdout",
     "output_type": "stream",
     "text": [
      "test loss: 3.250878 acc: 0.223\n",
      "Epoch 57| 82 training complete!\n",
      "------------------------------\n",
      "train loss: 3.824609\n"
     ]
    },
    {
     "name": "stderr",
     "output_type": "stream",
     "text": [
      " 70%|██████▉   | 57/82 [1:51:51<49:17, 118.32s/it]"
     ]
    },
    {
     "name": "stdout",
     "output_type": "stream",
     "text": [
      "test loss: 3.164529 acc: 0.233\n",
      "Epoch 58| 82 training complete!\n",
      "------------------------------\n",
      "train loss: 3.827687\n"
     ]
    },
    {
     "name": "stderr",
     "output_type": "stream",
     "text": [
      " 71%|███████   | 58/82 [1:53:53<47:43, 119.29s/it]"
     ]
    },
    {
     "name": "stdout",
     "output_type": "stream",
     "text": [
      "test loss: 3.171810 acc: 0.231\n",
      "Epoch 59| 82 training complete!\n",
      "------------------------------\n",
      "train loss: 3.802127\n"
     ]
    },
    {
     "name": "stderr",
     "output_type": "stream",
     "text": [
      " 72%|███████▏  | 59/82 [1:55:51<45:36, 118.99s/it]"
     ]
    },
    {
     "name": "stdout",
     "output_type": "stream",
     "text": [
      "test loss: 3.156858 acc: 0.237\n",
      "Epoch 60| 82 training complete!\n",
      "------------------------------\n",
      "train loss: 3.792447\n"
     ]
    },
    {
     "name": "stderr",
     "output_type": "stream",
     "text": [
      " 73%|███████▎  | 60/82 [1:57:49<43:32, 118.73s/it]"
     ]
    },
    {
     "name": "stdout",
     "output_type": "stream",
     "text": [
      "test loss: 3.103736 acc: 0.241\n",
      "Epoch 61| 82 training complete!\n",
      "------------------------------\n",
      "train loss: 3.765334\n"
     ]
    },
    {
     "name": "stderr",
     "output_type": "stream",
     "text": [
      " 74%|███████▍  | 61/82 [1:59:49<41:41, 119.10s/it]"
     ]
    },
    {
     "name": "stdout",
     "output_type": "stream",
     "text": [
      "test loss: 3.056375 acc: 0.257\n",
      "Epoch 62| 82 training complete!\n",
      "------------------------------\n",
      "train loss: 3.762247\n"
     ]
    },
    {
     "name": "stderr",
     "output_type": "stream",
     "text": [
      " 76%|███████▌  | 62/82 [2:01:47<39:34, 118.72s/it]"
     ]
    },
    {
     "name": "stdout",
     "output_type": "stream",
     "text": [
      "test loss: 3.086096 acc: 0.249\n",
      "Epoch 63| 82 training complete!\n",
      "------------------------------\n",
      "train loss: 3.750807\n"
     ]
    },
    {
     "name": "stderr",
     "output_type": "stream",
     "text": [
      " 77%|███████▋  | 63/82 [2:03:47<37:42, 119.08s/it]"
     ]
    },
    {
     "name": "stdout",
     "output_type": "stream",
     "text": [
      "test loss: 3.066571 acc: 0.259\n",
      "Epoch 64| 82 training complete!\n",
      "------------------------------\n",
      "train loss: 3.735003\n"
     ]
    },
    {
     "name": "stderr",
     "output_type": "stream",
     "text": [
      " 78%|███████▊  | 64/82 [2:05:45<35:38, 118.81s/it]"
     ]
    },
    {
     "name": "stdout",
     "output_type": "stream",
     "text": [
      "test loss: 3.000050 acc: 0.271\n",
      "Epoch 65| 82 training complete!\n",
      "------------------------------\n",
      "train loss: 3.727831\n"
     ]
    },
    {
     "name": "stderr",
     "output_type": "stream",
     "text": [
      " 79%|███████▉  | 65/82 [2:07:45<33:46, 119.21s/it]"
     ]
    },
    {
     "name": "stdout",
     "output_type": "stream",
     "text": [
      "test loss: 3.029044 acc: 0.255\n",
      "Epoch 66| 82 training complete!\n",
      "------------------------------\n",
      "train loss: 3.728661\n"
     ]
    },
    {
     "name": "stderr",
     "output_type": "stream",
     "text": [
      " 80%|████████  | 66/82 [2:09:46<31:53, 119.61s/it]"
     ]
    },
    {
     "name": "stdout",
     "output_type": "stream",
     "text": [
      "test loss: 2.987144 acc: 0.267\n",
      "Epoch 67| 82 training complete!\n",
      "------------------------------\n",
      "train loss: 3.707276\n"
     ]
    },
    {
     "name": "stderr",
     "output_type": "stream",
     "text": [
      " 82%|████████▏ | 67/82 [2:11:44<29:48, 119.22s/it]"
     ]
    },
    {
     "name": "stdout",
     "output_type": "stream",
     "text": [
      "test loss: 2.920159 acc: 0.278\n",
      "Epoch 68| 82 training complete!\n",
      "------------------------------\n",
      "train loss: 3.691428\n"
     ]
    },
    {
     "name": "stderr",
     "output_type": "stream",
     "text": [
      " 83%|████████▎ | 68/82 [2:13:41<27:39, 118.56s/it]"
     ]
    },
    {
     "name": "stdout",
     "output_type": "stream",
     "text": [
      "test loss: 3.007288 acc: 0.267\n",
      "Epoch 69| 82 training complete!\n",
      "------------------------------\n",
      "train loss: 3.686527\n"
     ]
    },
    {
     "name": "stderr",
     "output_type": "stream",
     "text": [
      " 84%|████████▍ | 69/82 [2:15:36<25:28, 117.60s/it]"
     ]
    },
    {
     "name": "stdout",
     "output_type": "stream",
     "text": [
      "test loss: 2.952114 acc: 0.274\n",
      "Epoch 70| 82 training complete!\n",
      "------------------------------\n",
      "train loss: 3.672765\n"
     ]
    },
    {
     "name": "stderr",
     "output_type": "stream",
     "text": [
      " 85%|████████▌ | 70/82 [2:17:36<23:39, 118.32s/it]"
     ]
    },
    {
     "name": "stdout",
     "output_type": "stream",
     "text": [
      "test loss: 2.923063 acc: 0.287\n",
      "Epoch 71| 82 training complete!\n",
      "------------------------------\n",
      "train loss: 3.651672\n"
     ]
    },
    {
     "name": "stderr",
     "output_type": "stream",
     "text": [
      " 87%|████████▋ | 71/82 [2:19:35<21:44, 118.56s/it]"
     ]
    },
    {
     "name": "stdout",
     "output_type": "stream",
     "text": [
      "test loss: 2.879232 acc: 0.289\n",
      "Epoch 72| 82 training complete!\n",
      "------------------------------\n",
      "train loss: 3.647636\n"
     ]
    },
    {
     "name": "stderr",
     "output_type": "stream",
     "text": [
      " 88%|████████▊ | 72/82 [2:21:35<19:49, 118.94s/it]"
     ]
    },
    {
     "name": "stdout",
     "output_type": "stream",
     "text": [
      "test loss: 2.841747 acc: 0.292\n",
      "Epoch 73| 82 training complete!\n",
      "------------------------------\n",
      "train loss: 3.626428\n"
     ]
    },
    {
     "name": "stderr",
     "output_type": "stream",
     "text": [
      " 89%|████████▉ | 73/82 [2:23:32<17:45, 118.38s/it]"
     ]
    },
    {
     "name": "stdout",
     "output_type": "stream",
     "text": [
      "test loss: 2.805279 acc: 0.302\n",
      "Epoch 74| 82 training complete!\n",
      "------------------------------\n",
      "train loss: 3.629003\n"
     ]
    },
    {
     "name": "stderr",
     "output_type": "stream",
     "text": [
      " 90%|█████████ | 74/82 [2:25:33<15:51, 118.94s/it]"
     ]
    },
    {
     "name": "stdout",
     "output_type": "stream",
     "text": [
      "test loss: 2.836138 acc: 0.299\n",
      "Epoch 75| 82 training complete!\n",
      "------------------------------\n",
      "train loss: 3.625331\n"
     ]
    },
    {
     "name": "stderr",
     "output_type": "stream",
     "text": [
      " 91%|█████████▏| 75/82 [2:27:30<13:49, 118.48s/it]"
     ]
    },
    {
     "name": "stdout",
     "output_type": "stream",
     "text": [
      "test loss: 2.810557 acc: 0.301\n",
      "Epoch 76| 82 training complete!\n",
      "------------------------------\n",
      "train loss: 3.599011\n"
     ]
    },
    {
     "name": "stderr",
     "output_type": "stream",
     "text": [
      " 93%|█████████▎| 76/82 [2:29:30<11:54, 119.02s/it]"
     ]
    },
    {
     "name": "stdout",
     "output_type": "stream",
     "text": [
      "test loss: 2.843156 acc: 0.304\n",
      "Epoch 77| 82 training complete!\n",
      "------------------------------\n",
      "train loss: 3.600985\n"
     ]
    },
    {
     "name": "stderr",
     "output_type": "stream",
     "text": [
      " 94%|█████████▍| 77/82 [2:31:28<09:53, 118.76s/it]"
     ]
    },
    {
     "name": "stdout",
     "output_type": "stream",
     "text": [
      "test loss: 2.767766 acc: 0.316\n",
      "Epoch 78| 82 training complete!\n",
      "------------------------------\n",
      "train loss: 3.586277\n"
     ]
    },
    {
     "name": "stderr",
     "output_type": "stream",
     "text": [
      " 95%|█████████▌| 78/82 [2:33:27<07:55, 118.78s/it]"
     ]
    },
    {
     "name": "stdout",
     "output_type": "stream",
     "text": [
      "test loss: 2.784278 acc: 0.315\n",
      "Epoch 79| 82 training complete!\n",
      "------------------------------\n",
      "train loss: 3.567671\n"
     ]
    },
    {
     "name": "stderr",
     "output_type": "stream",
     "text": [
      " 96%|█████████▋| 79/82 [2:35:25<05:55, 118.55s/it]"
     ]
    },
    {
     "name": "stdout",
     "output_type": "stream",
     "text": [
      "test loss: 2.689978 acc: 0.325\n",
      "Epoch 80| 82 training complete!\n",
      "------------------------------\n",
      "train loss: 3.561210\n"
     ]
    },
    {
     "name": "stderr",
     "output_type": "stream",
     "text": [
      " 98%|█████████▊| 80/82 [2:37:26<03:58, 119.31s/it]"
     ]
    },
    {
     "name": "stdout",
     "output_type": "stream",
     "text": [
      "test loss: 2.722704 acc: 0.319\n",
      "Epoch 81| 82 training complete!\n",
      "------------------------------\n",
      "train loss: 3.561639\n"
     ]
    },
    {
     "name": "stderr",
     "output_type": "stream",
     "text": [
      " 99%|█████████▉| 81/82 [2:39:22<01:58, 118.29s/it]"
     ]
    },
    {
     "name": "stdout",
     "output_type": "stream",
     "text": [
      "test loss: 2.696685 acc: 0.326\n",
      "Epoch 82| 82 training complete!\n",
      "------------------------------\n",
      "train loss: 3.540314\n"
     ]
    },
    {
     "name": "stderr",
     "output_type": "stream",
     "text": [
      "100%|██████████| 82/82 [2:41:18<00:00, 118.03s/it]"
     ]
    },
    {
     "name": "stdout",
     "output_type": "stream",
     "text": [
      "test loss: 2.676259 acc: 0.329\n"
     ]
    },
    {
     "name": "stderr",
     "output_type": "stream",
     "text": [
      "\n"
     ]
    }
   ],
   "source": [
    "train_model(model, train_dataloader, test_dataloader, optimizer, loss_fun, num_epoches= epoches, cutmix_flag= True)"
   ]
  }
 ],
 "metadata": {
  "kernelspec": {
   "display_name": "pytorch",
   "language": "python",
   "name": "python3"
  },
  "language_info": {
   "codemirror_mode": {
    "name": "ipython",
    "version": 3
   },
   "file_extension": ".py",
   "mimetype": "text/x-python",
   "name": "python",
   "nbconvert_exporter": "python",
   "pygments_lexer": "ipython3",
   "version": "3.11.5"
  }
 },
 "nbformat": 4,
 "nbformat_minor": 2
}
