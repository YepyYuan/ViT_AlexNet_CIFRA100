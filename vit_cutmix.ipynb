{
 "cells": [
  {
   "cell_type": "code",
   "execution_count": 1,
   "metadata": {},
   "outputs": [],
   "source": [
    "import torch\n",
    "import torch.nn as nn\n",
    "import torchvision\n",
    "from torchvision import transforms\n",
    "from torch.utils.data import DataLoader\n",
    "from torchvision.models import vit_b_16, ViT_B_16_Weights\n",
    "from torchvision.transforms import v2\n",
    "from train import train_model"
   ]
  },
  {
   "cell_type": "code",
   "execution_count": 2,
   "metadata": {},
   "outputs": [
    {
     "name": "stdout",
     "output_type": "stream",
     "text": [
      "Files already downloaded and verified\n",
      "Files already downloaded and verified\n"
     ]
    }
   ],
   "source": [
    "mean = (0.5070751592371323, 0.48654887331495095, 0.4409178433670343)\n",
    "std = (0.2673342858792401, 0.2564384629170883, 0.27615047132568404)\n",
    "\n",
    "train_transform = transforms.Compose([\n",
    "        v2.RandomResizedCrop(size=(224, 224), antialias=True),\n",
    "        transforms.RandomHorizontalFlip(),\n",
    "        transforms.RandomRotation(15),\n",
    "        transforms.ToTensor(),\n",
    "        transforms.Normalize(mean, std)\n",
    "])\n",
    "\n",
    "test_transform = transforms.Compose([\n",
    "        v2.RandomResizedCrop(size=(224, 224), antialias=True),\n",
    "        transforms.ToTensor(),\n",
    "        transforms.Normalize(mean, std)\n",
    "])\n",
    "\n",
    "train_data = torchvision.datasets.CIFAR100(\"./data\", train=True, \n",
    "                                     transform=train_transform,download=True)\n",
    "\n",
    "test_data = torchvision.datasets.CIFAR100(\"./data\", train=False, \n",
    "                                     transform=test_transform,download=True)\n",
    "\n"
   ]
  },
  {
   "cell_type": "code",
   "execution_count": 3,
   "metadata": {},
   "outputs": [],
   "source": [
    "train_dataloader = DataLoader(train_data, batch_size=32, shuffle=True)\n",
    "test_dataloader = DataLoader(test_data, batch_size=32, shuffle=True)"
   ]
  },
  {
   "cell_type": "code",
   "execution_count": 4,
   "metadata": {},
   "outputs": [],
   "source": [
    "device = torch.device('cuda' if torch.cuda.is_available() else 'cpu')\n",
    "\n",
    "epoches = 82\n",
    "batchsize = 32\n",
    "lr = 0.001\n",
    "\n",
    "weights = ViT_B_16_Weights.DEFAULT\n",
    "model = vit_b_16(weights=weights)\n",
    "# model = vit_b_16()\n",
    "model.heads[0] = nn.Linear(model.heads[0].in_features, 100)\n",
    "model = model.to(device)\n",
    "\n",
    "loss_fun = nn.CrossEntropyLoss()\n",
    "optimizer = torch.optim.SGD(model.parameters(), lr= lr, momentum=0.9)"
   ]
  },
  {
   "cell_type": "code",
   "execution_count": 5,
   "metadata": {},
   "outputs": [
    {
     "data": {
      "text/plain": [
       "85875556"
      ]
     },
     "execution_count": 5,
     "metadata": {},
     "output_type": "execute_result"
    }
   ],
   "source": [
    "sum([p.numel() for p in model.parameters()])"
   ]
  },
  {
   "cell_type": "code",
   "execution_count": 6,
   "metadata": {},
   "outputs": [
    {
     "name": "stderr",
     "output_type": "stream",
     "text": [
      "  0%|          | 0/82 [00:00<?, ?it/s]"
     ]
    },
    {
     "name": "stdout",
     "output_type": "stream",
     "text": [
      "Epoch 1| 82 training complete!\n",
      "------------------------------\n",
      "train loss: 4.333700\n"
     ]
    },
    {
     "name": "stderr",
     "output_type": "stream",
     "text": [
      "  1%|          | 1/82 [09:30<12:50:35, 570.80s/it]"
     ]
    },
    {
     "name": "stdout",
     "output_type": "stream",
     "text": [
      "test loss: 3.856884 acc: 0.113\n",
      "Epoch 2| 82 training complete!\n",
      "------------------------------\n",
      "train loss: 3.841404\n"
     ]
    },
    {
     "name": "stderr",
     "output_type": "stream",
     "text": [
      "  2%|▏         | 2/82 [19:04<12:43:41, 572.77s/it]"
     ]
    },
    {
     "name": "stdout",
     "output_type": "stream",
     "text": [
      "test loss: 2.378523 acc: 0.437\n",
      "Epoch 3| 82 training complete!\n",
      "------------------------------\n",
      "train loss: 2.709947\n"
     ]
    },
    {
     "name": "stderr",
     "output_type": "stream",
     "text": [
      "  4%|▎         | 3/82 [28:36<12:33:12, 572.05s/it]"
     ]
    },
    {
     "name": "stdout",
     "output_type": "stream",
     "text": [
      "test loss: 1.393247 acc: 0.639\n",
      "Epoch 4| 82 training complete!\n",
      "------------------------------\n",
      "train loss: 2.353922\n"
     ]
    },
    {
     "name": "stderr",
     "output_type": "stream",
     "text": [
      "  5%|▍         | 4/82 [38:07<12:23:12, 571.70s/it]"
     ]
    },
    {
     "name": "stdout",
     "output_type": "stream",
     "text": [
      "test loss: 1.227553 acc: 0.670\n",
      "Epoch 5| 82 training complete!\n",
      "------------------------------\n",
      "train loss: 2.215527\n"
     ]
    },
    {
     "name": "stderr",
     "output_type": "stream",
     "text": [
      "  6%|▌         | 5/82 [47:38<12:13:27, 571.53s/it]"
     ]
    },
    {
     "name": "stdout",
     "output_type": "stream",
     "text": [
      "test loss: 1.128062 acc: 0.693\n",
      "Epoch 6| 82 training complete!\n",
      "------------------------------\n",
      "train loss: 2.135754\n"
     ]
    },
    {
     "name": "stderr",
     "output_type": "stream",
     "text": [
      "  7%|▋         | 6/82 [57:09<12:03:49, 571.44s/it]"
     ]
    },
    {
     "name": "stdout",
     "output_type": "stream",
     "text": [
      "test loss: 1.059220 acc: 0.707\n",
      "Epoch 7| 82 training complete!\n",
      "------------------------------\n",
      "train loss: 2.041127\n"
     ]
    },
    {
     "name": "stderr",
     "output_type": "stream",
     "text": [
      "  9%|▊         | 7/82 [1:06:36<11:52:29, 569.99s/it]"
     ]
    },
    {
     "name": "stdout",
     "output_type": "stream",
     "text": [
      "test loss: 1.054753 acc: 0.708\n",
      "Epoch 8| 82 training complete!\n",
      "------------------------------\n",
      "train loss: 1.995827\n"
     ]
    },
    {
     "name": "stderr",
     "output_type": "stream",
     "text": [
      " 10%|▉         | 8/82 [1:16:03<11:41:32, 568.82s/it]"
     ]
    },
    {
     "name": "stdout",
     "output_type": "stream",
     "text": [
      "test loss: 1.009941 acc: 0.721\n",
      "Epoch 9| 82 training complete!\n",
      "------------------------------\n",
      "train loss: 1.974348\n"
     ]
    },
    {
     "name": "stderr",
     "output_type": "stream",
     "text": [
      " 11%|█         | 9/82 [1:25:29<11:31:10, 568.10s/it]"
     ]
    },
    {
     "name": "stdout",
     "output_type": "stream",
     "text": [
      "test loss: 0.933747 acc: 0.738\n",
      "Epoch 10| 82 training complete!\n",
      "------------------------------\n",
      "train loss: 1.927422\n"
     ]
    },
    {
     "name": "stderr",
     "output_type": "stream",
     "text": [
      " 12%|█▏        | 10/82 [1:34:56<11:21:16, 567.73s/it]"
     ]
    },
    {
     "name": "stdout",
     "output_type": "stream",
     "text": [
      "test loss: 0.940766 acc: 0.739\n",
      "Epoch 11| 82 training complete!\n",
      "------------------------------\n",
      "train loss: 1.906434\n"
     ]
    },
    {
     "name": "stderr",
     "output_type": "stream",
     "text": [
      " 13%|█▎        | 11/82 [1:44:22<11:11:17, 567.29s/it]"
     ]
    },
    {
     "name": "stdout",
     "output_type": "stream",
     "text": [
      "test loss: 0.948436 acc: 0.736\n",
      "Epoch 12| 82 training complete!\n",
      "------------------------------\n",
      "train loss: 1.852425\n"
     ]
    },
    {
     "name": "stderr",
     "output_type": "stream",
     "text": [
      " 15%|█▍        | 12/82 [1:53:49<11:01:34, 567.07s/it]"
     ]
    },
    {
     "name": "stdout",
     "output_type": "stream",
     "text": [
      "test loss: 0.918543 acc: 0.744\n",
      "Epoch 13| 82 training complete!\n",
      "------------------------------\n",
      "train loss: 1.839119\n"
     ]
    },
    {
     "name": "stderr",
     "output_type": "stream",
     "text": [
      " 16%|█▌        | 13/82 [2:03:15<10:51:49, 566.80s/it]"
     ]
    },
    {
     "name": "stdout",
     "output_type": "stream",
     "text": [
      "test loss: 0.887142 acc: 0.755\n",
      "Epoch 14| 82 training complete!\n",
      "------------------------------\n",
      "train loss: 1.817849\n"
     ]
    },
    {
     "name": "stderr",
     "output_type": "stream",
     "text": [
      " 17%|█▋        | 14/82 [2:12:41<10:42:08, 566.59s/it]"
     ]
    },
    {
     "name": "stdout",
     "output_type": "stream",
     "text": [
      "test loss: 0.879846 acc: 0.754\n",
      "Epoch 15| 82 training complete!\n",
      "------------------------------\n",
      "train loss: 1.799599\n"
     ]
    },
    {
     "name": "stderr",
     "output_type": "stream",
     "text": [
      " 18%|█▊        | 15/82 [2:22:08<10:32:42, 566.60s/it]"
     ]
    },
    {
     "name": "stdout",
     "output_type": "stream",
     "text": [
      "test loss: 0.894319 acc: 0.748\n",
      "Epoch 16| 82 training complete!\n",
      "------------------------------\n",
      "train loss: 1.793776\n"
     ]
    },
    {
     "name": "stderr",
     "output_type": "stream",
     "text": [
      " 20%|█▉        | 16/82 [2:31:34<10:23:15, 566.60s/it]"
     ]
    },
    {
     "name": "stdout",
     "output_type": "stream",
     "text": [
      "test loss: 0.857603 acc: 0.760\n",
      "Epoch 17| 82 training complete!\n",
      "------------------------------\n",
      "train loss: 1.765788\n"
     ]
    },
    {
     "name": "stderr",
     "output_type": "stream",
     "text": [
      " 21%|██        | 17/82 [2:41:01<10:13:50, 566.63s/it]"
     ]
    },
    {
     "name": "stdout",
     "output_type": "stream",
     "text": [
      "test loss: 0.878524 acc: 0.757\n",
      "Epoch 18| 82 training complete!\n",
      "------------------------------\n",
      "train loss: 1.741406\n"
     ]
    },
    {
     "name": "stderr",
     "output_type": "stream",
     "text": [
      " 22%|██▏       | 18/82 [2:50:28<10:04:19, 566.56s/it]"
     ]
    },
    {
     "name": "stdout",
     "output_type": "stream",
     "text": [
      "test loss: 0.855970 acc: 0.761\n",
      "Epoch 19| 82 training complete!\n",
      "------------------------------\n",
      "train loss: 1.751030\n"
     ]
    },
    {
     "name": "stderr",
     "output_type": "stream",
     "text": [
      " 23%|██▎       | 19/82 [2:59:54<9:54:57, 566.62s/it] "
     ]
    },
    {
     "name": "stdout",
     "output_type": "stream",
     "text": [
      "test loss: 0.866391 acc: 0.758\n",
      "Epoch 20| 82 training complete!\n",
      "------------------------------\n",
      "train loss: 1.710957\n"
     ]
    },
    {
     "name": "stderr",
     "output_type": "stream",
     "text": [
      " 24%|██▍       | 20/82 [3:09:21<9:45:29, 566.60s/it]"
     ]
    },
    {
     "name": "stdout",
     "output_type": "stream",
     "text": [
      "test loss: 0.856078 acc: 0.759\n",
      "Epoch 21| 82 training complete!\n",
      "------------------------------\n",
      "train loss: 1.707617\n"
     ]
    },
    {
     "name": "stderr",
     "output_type": "stream",
     "text": [
      " 26%|██▌       | 21/82 [3:18:47<9:36:00, 566.57s/it]"
     ]
    },
    {
     "name": "stdout",
     "output_type": "stream",
     "text": [
      "test loss: 0.846941 acc: 0.765\n",
      "Epoch 22| 82 training complete!\n",
      "------------------------------\n",
      "train loss: 1.680068\n"
     ]
    },
    {
     "name": "stderr",
     "output_type": "stream",
     "text": [
      " 27%|██▋       | 22/82 [3:28:14<9:26:35, 566.59s/it]"
     ]
    },
    {
     "name": "stdout",
     "output_type": "stream",
     "text": [
      "test loss: 0.820791 acc: 0.773\n",
      "Epoch 23| 82 training complete!\n",
      "------------------------------\n",
      "train loss: 1.657808\n"
     ]
    },
    {
     "name": "stderr",
     "output_type": "stream",
     "text": [
      " 28%|██▊       | 23/82 [3:37:40<9:17:03, 566.51s/it]"
     ]
    },
    {
     "name": "stdout",
     "output_type": "stream",
     "text": [
      "test loss: 0.816870 acc: 0.772\n",
      "Epoch 24| 82 training complete!\n",
      "------------------------------\n",
      "train loss: 1.651983\n"
     ]
    },
    {
     "name": "stderr",
     "output_type": "stream",
     "text": [
      " 29%|██▉       | 24/82 [3:47:07<9:07:34, 566.46s/it]"
     ]
    },
    {
     "name": "stdout",
     "output_type": "stream",
     "text": [
      "test loss: 0.842769 acc: 0.764\n",
      "Epoch 25| 82 training complete!\n",
      "------------------------------\n",
      "train loss: 1.641683\n"
     ]
    },
    {
     "name": "stderr",
     "output_type": "stream",
     "text": [
      " 30%|███       | 25/82 [3:56:33<8:58:12, 566.54s/it]"
     ]
    },
    {
     "name": "stdout",
     "output_type": "stream",
     "text": [
      "test loss: 0.835324 acc: 0.765\n",
      "Epoch 26| 82 training complete!\n",
      "------------------------------\n",
      "train loss: 1.635189\n"
     ]
    },
    {
     "name": "stderr",
     "output_type": "stream",
     "text": [
      " 32%|███▏      | 26/82 [4:06:00<8:48:45, 566.52s/it]"
     ]
    },
    {
     "name": "stdout",
     "output_type": "stream",
     "text": [
      "test loss: 0.831490 acc: 0.769\n",
      "Epoch 27| 82 training complete!\n",
      "------------------------------\n",
      "train loss: 1.618665\n"
     ]
    },
    {
     "name": "stderr",
     "output_type": "stream",
     "text": [
      " 33%|███▎      | 27/82 [4:15:26<8:39:19, 566.54s/it]"
     ]
    },
    {
     "name": "stdout",
     "output_type": "stream",
     "text": [
      "test loss: 0.851734 acc: 0.764\n",
      "Epoch 28| 82 training complete!\n",
      "------------------------------\n",
      "train loss: 1.598120\n"
     ]
    },
    {
     "name": "stderr",
     "output_type": "stream",
     "text": [
      " 34%|███▍      | 28/82 [4:24:54<8:30:03, 566.73s/it]"
     ]
    },
    {
     "name": "stdout",
     "output_type": "stream",
     "text": [
      "test loss: 0.824671 acc: 0.775\n",
      "Epoch 29| 82 training complete!\n",
      "------------------------------\n",
      "train loss: 1.604543\n"
     ]
    },
    {
     "name": "stderr",
     "output_type": "stream",
     "text": [
      " 35%|███▌      | 29/82 [4:34:20<8:20:33, 566.66s/it]"
     ]
    },
    {
     "name": "stdout",
     "output_type": "stream",
     "text": [
      "test loss: 0.813599 acc: 0.774\n",
      "Epoch 30| 82 training complete!\n",
      "------------------------------\n",
      "train loss: 1.594920\n"
     ]
    },
    {
     "name": "stderr",
     "output_type": "stream",
     "text": [
      " 37%|███▋      | 30/82 [4:43:47<8:11:06, 566.67s/it]"
     ]
    },
    {
     "name": "stdout",
     "output_type": "stream",
     "text": [
      "test loss: 0.838966 acc: 0.768\n",
      "Epoch 31| 82 training complete!\n",
      "------------------------------\n",
      "train loss: 1.584811\n"
     ]
    },
    {
     "name": "stderr",
     "output_type": "stream",
     "text": [
      " 38%|███▊      | 31/82 [4:53:13<8:01:33, 566.53s/it]"
     ]
    },
    {
     "name": "stdout",
     "output_type": "stream",
     "text": [
      "test loss: 0.815948 acc: 0.774\n",
      "Epoch 32| 82 training complete!\n",
      "------------------------------\n",
      "train loss: 1.575038\n"
     ]
    },
    {
     "name": "stderr",
     "output_type": "stream",
     "text": [
      " 39%|███▉      | 32/82 [5:02:40<7:52:06, 566.53s/it]"
     ]
    },
    {
     "name": "stdout",
     "output_type": "stream",
     "text": [
      "test loss: 0.816825 acc: 0.778\n",
      "Epoch 33| 82 training complete!\n",
      "------------------------------\n",
      "train loss: 1.555029\n"
     ]
    },
    {
     "name": "stderr",
     "output_type": "stream",
     "text": [
      " 40%|████      | 33/82 [5:12:06<7:42:45, 566.64s/it]"
     ]
    },
    {
     "name": "stdout",
     "output_type": "stream",
     "text": [
      "test loss: 0.807136 acc: 0.777\n",
      "Epoch 34| 82 training complete!\n",
      "------------------------------\n",
      "train loss: 1.537274\n"
     ]
    },
    {
     "name": "stderr",
     "output_type": "stream",
     "text": [
      " 41%|████▏     | 34/82 [5:21:34<7:33:26, 566.80s/it]"
     ]
    },
    {
     "name": "stdout",
     "output_type": "stream",
     "text": [
      "test loss: 0.835278 acc: 0.775\n",
      "Epoch 35| 82 training complete!\n",
      "------------------------------\n",
      "train loss: 1.542624\n"
     ]
    },
    {
     "name": "stderr",
     "output_type": "stream",
     "text": [
      " 43%|████▎     | 35/82 [5:31:01<7:24:02, 566.87s/it]"
     ]
    },
    {
     "name": "stdout",
     "output_type": "stream",
     "text": [
      "test loss: 0.836005 acc: 0.770\n",
      "Epoch 36| 82 training complete!\n",
      "------------------------------\n",
      "train loss: 1.537509\n"
     ]
    },
    {
     "name": "stderr",
     "output_type": "stream",
     "text": [
      " 44%|████▍     | 36/82 [5:40:27<7:14:33, 566.82s/it]"
     ]
    },
    {
     "name": "stdout",
     "output_type": "stream",
     "text": [
      "test loss: 0.836237 acc: 0.773\n",
      "Epoch 37| 82 training complete!\n",
      "------------------------------\n",
      "train loss: 1.512446\n"
     ]
    },
    {
     "name": "stderr",
     "output_type": "stream",
     "text": [
      " 45%|████▌     | 37/82 [5:49:54<7:05:03, 566.74s/it]"
     ]
    },
    {
     "name": "stdout",
     "output_type": "stream",
     "text": [
      "test loss: 0.820443 acc: 0.775\n",
      "Epoch 38| 82 training complete!\n",
      "------------------------------\n",
      "train loss: 1.515466\n"
     ]
    },
    {
     "name": "stderr",
     "output_type": "stream",
     "text": [
      " 46%|████▋     | 38/82 [5:59:20<6:55:32, 566.65s/it]"
     ]
    },
    {
     "name": "stdout",
     "output_type": "stream",
     "text": [
      "test loss: 0.819387 acc: 0.775\n",
      "Epoch 39| 82 training complete!\n",
      "------------------------------\n",
      "train loss: 1.513946\n"
     ]
    },
    {
     "name": "stderr",
     "output_type": "stream",
     "text": [
      " 48%|████▊     | 39/82 [6:08:47<6:46:03, 566.59s/it]"
     ]
    },
    {
     "name": "stdout",
     "output_type": "stream",
     "text": [
      "test loss: 0.825105 acc: 0.776\n",
      "Epoch 40| 82 training complete!\n",
      "------------------------------\n",
      "train loss: 1.490879\n"
     ]
    },
    {
     "name": "stderr",
     "output_type": "stream",
     "text": [
      " 49%|████▉     | 40/82 [6:18:13<6:36:37, 566.62s/it]"
     ]
    },
    {
     "name": "stdout",
     "output_type": "stream",
     "text": [
      "test loss: 0.815354 acc: 0.776\n",
      "Epoch 41| 82 training complete!\n",
      "------------------------------\n",
      "train loss: 1.473285\n"
     ]
    },
    {
     "name": "stderr",
     "output_type": "stream",
     "text": [
      " 50%|█████     | 41/82 [6:27:40<6:27:14, 566.70s/it]"
     ]
    },
    {
     "name": "stdout",
     "output_type": "stream",
     "text": [
      "test loss: 0.805364 acc: 0.785\n",
      "Epoch 42| 82 training complete!\n",
      "------------------------------\n",
      "train loss: 1.479718\n"
     ]
    },
    {
     "name": "stderr",
     "output_type": "stream",
     "text": [
      " 51%|█████     | 42/82 [6:37:07<6:17:45, 566.64s/it]"
     ]
    },
    {
     "name": "stdout",
     "output_type": "stream",
     "text": [
      "test loss: 0.803288 acc: 0.782\n",
      "Epoch 43| 82 training complete!\n",
      "------------------------------\n",
      "train loss: 1.476510\n"
     ]
    },
    {
     "name": "stderr",
     "output_type": "stream",
     "text": [
      " 52%|█████▏    | 43/82 [6:46:33<6:08:19, 566.64s/it]"
     ]
    },
    {
     "name": "stdout",
     "output_type": "stream",
     "text": [
      "test loss: 0.796180 acc: 0.787\n",
      "Epoch 44| 82 training complete!\n",
      "------------------------------\n",
      "train loss: 1.467765\n"
     ]
    },
    {
     "name": "stderr",
     "output_type": "stream",
     "text": [
      " 54%|█████▎    | 44/82 [6:56:00<5:58:53, 566.67s/it]"
     ]
    },
    {
     "name": "stdout",
     "output_type": "stream",
     "text": [
      "test loss: 0.811606 acc: 0.784\n",
      "Epoch 45| 82 training complete!\n",
      "------------------------------\n",
      "train loss: 1.460221\n"
     ]
    },
    {
     "name": "stderr",
     "output_type": "stream",
     "text": [
      " 55%|█████▍    | 45/82 [7:05:31<5:50:11, 567.89s/it]"
     ]
    },
    {
     "name": "stdout",
     "output_type": "stream",
     "text": [
      "test loss: 0.825590 acc: 0.779\n",
      "Epoch 46| 82 training complete!\n",
      "------------------------------\n",
      "train loss: 1.446755\n"
     ]
    },
    {
     "name": "stderr",
     "output_type": "stream",
     "text": [
      " 56%|█████▌    | 46/82 [7:14:57<5:40:26, 567.40s/it]"
     ]
    },
    {
     "name": "stdout",
     "output_type": "stream",
     "text": [
      "test loss: 0.821788 acc: 0.773\n",
      "Epoch 47| 82 training complete!\n",
      "------------------------------\n",
      "train loss: 1.462476\n"
     ]
    },
    {
     "name": "stderr",
     "output_type": "stream",
     "text": [
      " 57%|█████▋    | 47/82 [7:24:24<5:30:47, 567.07s/it]"
     ]
    },
    {
     "name": "stdout",
     "output_type": "stream",
     "text": [
      "test loss: 0.806318 acc: 0.782\n",
      "Epoch 48| 82 training complete!\n",
      "------------------------------\n",
      "train loss: 1.431883\n"
     ]
    },
    {
     "name": "stderr",
     "output_type": "stream",
     "text": [
      " 59%|█████▊    | 48/82 [7:33:50<5:21:11, 566.81s/it]"
     ]
    },
    {
     "name": "stdout",
     "output_type": "stream",
     "text": [
      "test loss: 0.829294 acc: 0.781\n",
      "Epoch 49| 82 training complete!\n",
      "------------------------------\n",
      "train loss: 1.444026\n"
     ]
    },
    {
     "name": "stderr",
     "output_type": "stream",
     "text": [
      " 60%|█████▉    | 49/82 [7:43:16<5:11:39, 566.65s/it]"
     ]
    },
    {
     "name": "stdout",
     "output_type": "stream",
     "text": [
      "test loss: 0.829018 acc: 0.778\n",
      "Epoch 50| 82 training complete!\n",
      "------------------------------\n",
      "train loss: 1.410573\n"
     ]
    },
    {
     "name": "stderr",
     "output_type": "stream",
     "text": [
      " 61%|██████    | 50/82 [7:52:43<5:02:15, 566.74s/it]"
     ]
    },
    {
     "name": "stdout",
     "output_type": "stream",
     "text": [
      "test loss: 0.827444 acc: 0.782\n",
      "Epoch 51| 82 training complete!\n",
      "------------------------------\n",
      "train loss: 1.429800\n"
     ]
    },
    {
     "name": "stderr",
     "output_type": "stream",
     "text": [
      " 62%|██████▏   | 51/82 [8:02:09<4:52:45, 566.64s/it]"
     ]
    },
    {
     "name": "stdout",
     "output_type": "stream",
     "text": [
      "test loss: 0.825149 acc: 0.778\n",
      "Epoch 52| 82 training complete!\n",
      "------------------------------\n",
      "train loss: 1.406533\n"
     ]
    },
    {
     "name": "stderr",
     "output_type": "stream",
     "text": [
      " 63%|██████▎   | 52/82 [8:11:36<4:43:18, 566.62s/it]"
     ]
    },
    {
     "name": "stdout",
     "output_type": "stream",
     "text": [
      "test loss: 0.850119 acc: 0.779\n",
      "Epoch 53| 82 training complete!\n",
      "------------------------------\n",
      "train loss: 1.415958\n"
     ]
    },
    {
     "name": "stderr",
     "output_type": "stream",
     "text": [
      " 65%|██████▍   | 53/82 [8:21:05<4:34:11, 567.30s/it]"
     ]
    },
    {
     "name": "stdout",
     "output_type": "stream",
     "text": [
      "test loss: 0.836814 acc: 0.778\n",
      "Epoch 54| 82 training complete!\n",
      "------------------------------\n",
      "train loss: 1.403704\n"
     ]
    },
    {
     "name": "stderr",
     "output_type": "stream",
     "text": [
      " 66%|██████▌   | 54/82 [8:30:35<4:25:10, 568.23s/it]"
     ]
    },
    {
     "name": "stdout",
     "output_type": "stream",
     "text": [
      "test loss: 0.807649 acc: 0.784\n",
      "Epoch 55| 82 training complete!\n",
      "------------------------------\n",
      "train loss: 1.388329\n"
     ]
    },
    {
     "name": "stderr",
     "output_type": "stream",
     "text": [
      " 67%|██████▋   | 55/82 [8:40:06<4:16:01, 568.96s/it]"
     ]
    },
    {
     "name": "stdout",
     "output_type": "stream",
     "text": [
      "test loss: 0.792771 acc: 0.788\n",
      "Epoch 56| 82 training complete!\n",
      "------------------------------\n",
      "train loss: 1.394151\n"
     ]
    },
    {
     "name": "stderr",
     "output_type": "stream",
     "text": [
      " 68%|██████▊   | 56/82 [8:49:36<4:06:45, 569.44s/it]"
     ]
    },
    {
     "name": "stdout",
     "output_type": "stream",
     "text": [
      "test loss: 0.835623 acc: 0.778\n",
      "Epoch 57| 82 training complete!\n",
      "------------------------------\n",
      "train loss: 1.382422\n"
     ]
    },
    {
     "name": "stderr",
     "output_type": "stream",
     "text": [
      " 70%|██████▉   | 57/82 [8:59:07<3:57:25, 569.80s/it]"
     ]
    },
    {
     "name": "stdout",
     "output_type": "stream",
     "text": [
      "test loss: 0.820958 acc: 0.784\n",
      "Epoch 58| 82 training complete!\n",
      "------------------------------\n",
      "train loss: 1.391568\n"
     ]
    },
    {
     "name": "stderr",
     "output_type": "stream",
     "text": [
      " 71%|███████   | 58/82 [9:08:37<3:47:59, 569.98s/it]"
     ]
    },
    {
     "name": "stdout",
     "output_type": "stream",
     "text": [
      "test loss: 0.827338 acc: 0.781\n",
      "Epoch 59| 82 training complete!\n",
      "------------------------------\n",
      "train loss: 1.367639\n"
     ]
    },
    {
     "name": "stderr",
     "output_type": "stream",
     "text": [
      " 72%|███████▏  | 59/82 [9:18:08<3:38:32, 570.10s/it]"
     ]
    },
    {
     "name": "stdout",
     "output_type": "stream",
     "text": [
      "test loss: 0.860645 acc: 0.774\n",
      "Epoch 60| 82 training complete!\n",
      "------------------------------\n",
      "train loss: 1.375404\n"
     ]
    },
    {
     "name": "stderr",
     "output_type": "stream",
     "text": [
      " 73%|███████▎  | 60/82 [9:27:38<3:29:05, 570.24s/it]"
     ]
    },
    {
     "name": "stdout",
     "output_type": "stream",
     "text": [
      "test loss: 0.867828 acc: 0.774\n",
      "Epoch 61| 82 training complete!\n",
      "------------------------------\n",
      "train loss: 1.368930\n"
     ]
    },
    {
     "name": "stderr",
     "output_type": "stream",
     "text": [
      " 74%|███████▍  | 61/82 [9:37:10<3:19:40, 570.50s/it]"
     ]
    },
    {
     "name": "stdout",
     "output_type": "stream",
     "text": [
      "test loss: 0.832687 acc: 0.786\n",
      "Epoch 62| 82 training complete!\n",
      "------------------------------\n",
      "train loss: 1.358327\n"
     ]
    },
    {
     "name": "stderr",
     "output_type": "stream",
     "text": [
      " 76%|███████▌  | 62/82 [9:46:40<3:10:07, 570.36s/it]"
     ]
    },
    {
     "name": "stdout",
     "output_type": "stream",
     "text": [
      "test loss: 0.807639 acc: 0.785\n",
      "Epoch 63| 82 training complete!\n",
      "------------------------------\n",
      "train loss: 1.347477\n"
     ]
    },
    {
     "name": "stderr",
     "output_type": "stream",
     "text": [
      " 77%|███████▋  | 63/82 [9:56:10<3:00:36, 570.36s/it]"
     ]
    },
    {
     "name": "stdout",
     "output_type": "stream",
     "text": [
      "test loss: 0.826076 acc: 0.782\n",
      "Epoch 64| 82 training complete!\n",
      "------------------------------\n",
      "train loss: 1.338178\n"
     ]
    },
    {
     "name": "stderr",
     "output_type": "stream",
     "text": [
      " 78%|███████▊  | 64/82 [10:05:40<2:51:07, 570.41s/it]"
     ]
    },
    {
     "name": "stdout",
     "output_type": "stream",
     "text": [
      "test loss: 0.810709 acc: 0.786\n",
      "Epoch 65| 82 training complete!\n",
      "------------------------------\n",
      "train loss: 1.355400\n"
     ]
    },
    {
     "name": "stderr",
     "output_type": "stream",
     "text": [
      " 79%|███████▉  | 65/82 [10:15:11<2:41:37, 570.45s/it]"
     ]
    },
    {
     "name": "stdout",
     "output_type": "stream",
     "text": [
      "test loss: 0.829173 acc: 0.786\n",
      "Epoch 66| 82 training complete!\n",
      "------------------------------\n",
      "train loss: 1.347334\n"
     ]
    },
    {
     "name": "stderr",
     "output_type": "stream",
     "text": [
      " 80%|████████  | 66/82 [10:24:42<2:32:08, 570.51s/it]"
     ]
    },
    {
     "name": "stdout",
     "output_type": "stream",
     "text": [
      "test loss: 0.858357 acc: 0.777\n",
      "Epoch 67| 82 training complete!\n",
      "------------------------------\n",
      "train loss: 1.331097\n"
     ]
    },
    {
     "name": "stderr",
     "output_type": "stream",
     "text": [
      " 82%|████████▏ | 67/82 [10:34:12<2:22:36, 570.43s/it]"
     ]
    },
    {
     "name": "stdout",
     "output_type": "stream",
     "text": [
      "test loss: 0.825003 acc: 0.781\n",
      "Epoch 68| 82 training complete!\n",
      "------------------------------\n",
      "train loss: 1.339986\n"
     ]
    },
    {
     "name": "stderr",
     "output_type": "stream",
     "text": [
      " 83%|████████▎ | 68/82 [10:43:42<2:13:05, 570.38s/it]"
     ]
    },
    {
     "name": "stdout",
     "output_type": "stream",
     "text": [
      "test loss: 0.828216 acc: 0.787\n",
      "Epoch 69| 82 training complete!\n",
      "------------------------------\n",
      "train loss: 1.318657\n"
     ]
    },
    {
     "name": "stderr",
     "output_type": "stream",
     "text": [
      " 84%|████████▍ | 69/82 [10:53:12<2:03:34, 570.36s/it]"
     ]
    },
    {
     "name": "stdout",
     "output_type": "stream",
     "text": [
      "test loss: 0.840328 acc: 0.784\n",
      "Epoch 70| 82 training complete!\n",
      "------------------------------\n",
      "train loss: 1.310889\n"
     ]
    },
    {
     "name": "stderr",
     "output_type": "stream",
     "text": [
      " 85%|████████▌ | 70/82 [11:02:43<1:54:04, 570.38s/it]"
     ]
    },
    {
     "name": "stdout",
     "output_type": "stream",
     "text": [
      "test loss: 0.846805 acc: 0.778\n",
      "Epoch 71| 82 training complete!\n",
      "------------------------------\n",
      "train loss: 1.305420\n"
     ]
    },
    {
     "name": "stderr",
     "output_type": "stream",
     "text": [
      " 87%|████████▋ | 71/82 [11:12:13<1:44:34, 570.44s/it]"
     ]
    },
    {
     "name": "stdout",
     "output_type": "stream",
     "text": [
      "test loss: 0.860775 acc: 0.780\n",
      "Epoch 72| 82 training complete!\n",
      "------------------------------\n",
      "train loss: 1.307101\n"
     ]
    },
    {
     "name": "stderr",
     "output_type": "stream",
     "text": [
      " 88%|████████▊ | 72/82 [11:21:46<1:35:10, 571.03s/it]"
     ]
    },
    {
     "name": "stdout",
     "output_type": "stream",
     "text": [
      "test loss: 0.863333 acc: 0.778\n",
      "Epoch 73| 82 training complete!\n",
      "------------------------------\n",
      "train loss: 1.301162\n"
     ]
    },
    {
     "name": "stderr",
     "output_type": "stream",
     "text": [
      " 89%|████████▉ | 73/82 [11:31:17<1:25:38, 570.93s/it]"
     ]
    },
    {
     "name": "stdout",
     "output_type": "stream",
     "text": [
      "test loss: 0.832540 acc: 0.786\n",
      "Epoch 74| 82 training complete!\n",
      "------------------------------\n",
      "train loss: 1.310437\n"
     ]
    },
    {
     "name": "stderr",
     "output_type": "stream",
     "text": [
      " 90%|█████████ | 74/82 [11:41:17<1:17:17, 579.66s/it]"
     ]
    },
    {
     "name": "stdout",
     "output_type": "stream",
     "text": [
      "test loss: 0.828364 acc: 0.786\n",
      "Epoch 75| 82 training complete!\n",
      "------------------------------\n",
      "train loss: 1.293189\n"
     ]
    },
    {
     "name": "stderr",
     "output_type": "stream",
     "text": [
      " 91%|█████████▏| 75/82 [11:51:29<1:08:45, 589.35s/it]"
     ]
    },
    {
     "name": "stdout",
     "output_type": "stream",
     "text": [
      "test loss: 0.845907 acc: 0.782\n",
      "Epoch 76| 82 training complete!\n",
      "------------------------------\n",
      "train loss: 1.283947\n"
     ]
    },
    {
     "name": "stderr",
     "output_type": "stream",
     "text": [
      " 93%|█████████▎| 76/82 [12:02:23<1:00:53, 608.87s/it]"
     ]
    },
    {
     "name": "stdout",
     "output_type": "stream",
     "text": [
      "test loss: 0.828390 acc: 0.782\n",
      "Epoch 77| 82 training complete!\n",
      "------------------------------\n",
      "train loss: 1.297203\n"
     ]
    },
    {
     "name": "stderr",
     "output_type": "stream",
     "text": [
      " 94%|█████████▍| 77/82 [12:13:15<51:49, 621.94s/it]  "
     ]
    },
    {
     "name": "stdout",
     "output_type": "stream",
     "text": [
      "test loss: 0.823149 acc: 0.785\n",
      "Epoch 78| 82 training complete!\n",
      "------------------------------\n",
      "train loss: 1.293401\n"
     ]
    },
    {
     "name": "stderr",
     "output_type": "stream",
     "text": [
      " 95%|█████████▌| 78/82 [12:24:05<42:01, 630.29s/it]"
     ]
    },
    {
     "name": "stdout",
     "output_type": "stream",
     "text": [
      "test loss: 0.853219 acc: 0.781\n",
      "Epoch 79| 82 training complete!\n",
      "------------------------------\n",
      "train loss: 1.281456\n"
     ]
    },
    {
     "name": "stderr",
     "output_type": "stream",
     "text": [
      " 96%|█████████▋| 79/82 [12:34:57<31:50, 636.82s/it]"
     ]
    },
    {
     "name": "stdout",
     "output_type": "stream",
     "text": [
      "test loss: 0.852962 acc: 0.775\n",
      "Epoch 80| 82 training complete!\n",
      "------------------------------\n",
      "train loss: 1.268607\n"
     ]
    },
    {
     "name": "stderr",
     "output_type": "stream",
     "text": [
      " 98%|█████████▊| 80/82 [12:45:44<21:19, 639.75s/it]"
     ]
    },
    {
     "name": "stdout",
     "output_type": "stream",
     "text": [
      "test loss: 0.865069 acc: 0.784\n",
      "Epoch 81| 82 training complete!\n",
      "------------------------------\n",
      "train loss: 1.283744\n"
     ]
    },
    {
     "name": "stderr",
     "output_type": "stream",
     "text": [
      " 99%|█████████▉| 81/82 [12:55:31<10:23, 623.84s/it]"
     ]
    },
    {
     "name": "stdout",
     "output_type": "stream",
     "text": [
      "test loss: 0.862976 acc: 0.779\n",
      "Epoch 82| 82 training complete!\n",
      "------------------------------\n",
      "train loss: 1.264772\n"
     ]
    },
    {
     "name": "stderr",
     "output_type": "stream",
     "text": [
      "100%|██████████| 82/82 [13:05:07<00:00, 574.48s/it]"
     ]
    },
    {
     "name": "stdout",
     "output_type": "stream",
     "text": [
      "test loss: 0.801554 acc: 0.795\n"
     ]
    },
    {
     "name": "stderr",
     "output_type": "stream",
     "text": [
      "\n"
     ]
    }
   ],
   "source": [
    "train_model(model, train_dataloader, test_dataloader, optimizer, loss_fun, num_epoches=epoches, cutmix_flag=True)"
   ]
  }
 ],
 "metadata": {
  "kernelspec": {
   "display_name": "pytorch",
   "language": "python",
   "name": "python3"
  },
  "language_info": {
   "codemirror_mode": {
    "name": "ipython",
    "version": 3
   },
   "file_extension": ".py",
   "mimetype": "text/x-python",
   "name": "python",
   "nbconvert_exporter": "python",
   "pygments_lexer": "ipython3",
   "version": "3.11.5"
  }
 },
 "nbformat": 4,
 "nbformat_minor": 2
}
